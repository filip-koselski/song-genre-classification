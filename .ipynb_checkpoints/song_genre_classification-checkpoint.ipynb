{
 "cells": [
  {
   "cell_type": "markdown",
   "id": "056e23b1",
   "metadata": {},
   "source": [
    "# **Song genre classification**"
   ]
  },
  {
   "cell_type": "markdown",
   "id": "f036f0fc",
   "metadata": {},
   "source": [
    "The task is to categorize songs into classes (Electronic, Rock etc.) based on song features such as duration, instrumentalness, popularity etc.\n",
    "The data was obtained from kaggle.com."
   ]
  },
  {
   "cell_type": "markdown",
   "id": "a5f53795",
   "metadata": {},
   "source": [
    "# Imports"
   ]
  },
  {
   "cell_type": "code",
   "execution_count": 1,
   "id": "cf9daf57",
   "metadata": {},
   "outputs": [],
   "source": [
    "import pandas as pd\n",
    "import numpy as np\n",
    "import matplotlib.pyplot as plt\n",
    "from sklearn.model_selection import train_test_split \n",
    "from sklearn.model_selection import KFold \n",
    "from sklearn.model_selection import cross_val_score\n",
    "\n",
    "from sklearn.naive_bayes import GaussianNB \n",
    "from sklearn.neighbors import KNeighborsClassifier\n",
    "from sklearn.tree import DecisionTreeClassifier\n",
    "from sklearn.svm import SVC\n",
    "from sklearn.linear_model import LogisticRegression\n",
    "\n",
    "from sklearn.metrics import accuracy_score \n",
    "from sklearn.metrics import classification_report\n",
    "from sklearn.metrics import confusion_matrix\n",
    "from sklearn.metrics import plot_confusion_matrix\n",
    "\n",
    "from math import ceil"
   ]
  },
  {
   "cell_type": "markdown",
   "id": "7b89b4ca",
   "metadata": {},
   "source": [
    "# Data exploration"
   ]
  },
  {
   "cell_type": "code",
   "execution_count": 2,
   "id": "74aef3e5",
   "metadata": {},
   "outputs": [],
   "source": [
    "data = pd.read_csv('music_genre.csv', delimiter=',',header=0)"
   ]
  },
  {
   "cell_type": "code",
   "execution_count": 3,
   "id": "916c54d1",
   "metadata": {},
   "outputs": [
    {
     "data": {
      "text/html": [
       "<div>\n",
       "<style scoped>\n",
       "    .dataframe tbody tr th:only-of-type {\n",
       "        vertical-align: middle;\n",
       "    }\n",
       "\n",
       "    .dataframe tbody tr th {\n",
       "        vertical-align: top;\n",
       "    }\n",
       "\n",
       "    .dataframe thead th {\n",
       "        text-align: right;\n",
       "    }\n",
       "</style>\n",
       "<table border=\"1\" class=\"dataframe\">\n",
       "  <thead>\n",
       "    <tr style=\"text-align: right;\">\n",
       "      <th></th>\n",
       "      <th>instance_id</th>\n",
       "      <th>artist_name</th>\n",
       "      <th>track_name</th>\n",
       "      <th>popularity</th>\n",
       "      <th>acousticness</th>\n",
       "      <th>danceability</th>\n",
       "      <th>duration_ms</th>\n",
       "      <th>energy</th>\n",
       "      <th>instrumentalness</th>\n",
       "      <th>key</th>\n",
       "      <th>liveness</th>\n",
       "      <th>loudness</th>\n",
       "      <th>mode</th>\n",
       "      <th>speechiness</th>\n",
       "      <th>tempo</th>\n",
       "      <th>obtained_date</th>\n",
       "      <th>valence</th>\n",
       "      <th>music_genre</th>\n",
       "    </tr>\n",
       "  </thead>\n",
       "  <tbody>\n",
       "    <tr>\n",
       "      <th>0</th>\n",
       "      <td>32894.0</td>\n",
       "      <td>Röyksopp</td>\n",
       "      <td>Röyksopp's Night Out</td>\n",
       "      <td>27.0</td>\n",
       "      <td>0.00468</td>\n",
       "      <td>0.652</td>\n",
       "      <td>-1.0</td>\n",
       "      <td>0.941</td>\n",
       "      <td>0.79200</td>\n",
       "      <td>A#</td>\n",
       "      <td>0.115</td>\n",
       "      <td>-5.201</td>\n",
       "      <td>Minor</td>\n",
       "      <td>0.0748</td>\n",
       "      <td>100.889</td>\n",
       "      <td>4-Apr</td>\n",
       "      <td>0.759</td>\n",
       "      <td>Electronic</td>\n",
       "    </tr>\n",
       "    <tr>\n",
       "      <th>1</th>\n",
       "      <td>46652.0</td>\n",
       "      <td>Thievery Corporation</td>\n",
       "      <td>The Shining Path</td>\n",
       "      <td>31.0</td>\n",
       "      <td>0.01270</td>\n",
       "      <td>0.622</td>\n",
       "      <td>218293.0</td>\n",
       "      <td>0.890</td>\n",
       "      <td>0.95000</td>\n",
       "      <td>D</td>\n",
       "      <td>0.124</td>\n",
       "      <td>-7.043</td>\n",
       "      <td>Minor</td>\n",
       "      <td>0.0300</td>\n",
       "      <td>115.00200000000001</td>\n",
       "      <td>4-Apr</td>\n",
       "      <td>0.531</td>\n",
       "      <td>Electronic</td>\n",
       "    </tr>\n",
       "    <tr>\n",
       "      <th>2</th>\n",
       "      <td>30097.0</td>\n",
       "      <td>Dillon Francis</td>\n",
       "      <td>Hurricane</td>\n",
       "      <td>28.0</td>\n",
       "      <td>0.00306</td>\n",
       "      <td>0.620</td>\n",
       "      <td>215613.0</td>\n",
       "      <td>0.755</td>\n",
       "      <td>0.01180</td>\n",
       "      <td>G#</td>\n",
       "      <td>0.534</td>\n",
       "      <td>-4.617</td>\n",
       "      <td>Major</td>\n",
       "      <td>0.0345</td>\n",
       "      <td>127.994</td>\n",
       "      <td>4-Apr</td>\n",
       "      <td>0.333</td>\n",
       "      <td>Electronic</td>\n",
       "    </tr>\n",
       "    <tr>\n",
       "      <th>3</th>\n",
       "      <td>62177.0</td>\n",
       "      <td>Dubloadz</td>\n",
       "      <td>Nitro</td>\n",
       "      <td>34.0</td>\n",
       "      <td>0.02540</td>\n",
       "      <td>0.774</td>\n",
       "      <td>166875.0</td>\n",
       "      <td>0.700</td>\n",
       "      <td>0.00253</td>\n",
       "      <td>C#</td>\n",
       "      <td>0.157</td>\n",
       "      <td>-4.498</td>\n",
       "      <td>Major</td>\n",
       "      <td>0.2390</td>\n",
       "      <td>128.014</td>\n",
       "      <td>4-Apr</td>\n",
       "      <td>0.270</td>\n",
       "      <td>Electronic</td>\n",
       "    </tr>\n",
       "    <tr>\n",
       "      <th>4</th>\n",
       "      <td>24907.0</td>\n",
       "      <td>What So Not</td>\n",
       "      <td>Divide &amp; Conquer</td>\n",
       "      <td>32.0</td>\n",
       "      <td>0.00465</td>\n",
       "      <td>0.638</td>\n",
       "      <td>222369.0</td>\n",
       "      <td>0.587</td>\n",
       "      <td>0.90900</td>\n",
       "      <td>F#</td>\n",
       "      <td>0.157</td>\n",
       "      <td>-6.266</td>\n",
       "      <td>Major</td>\n",
       "      <td>0.0413</td>\n",
       "      <td>145.036</td>\n",
       "      <td>4-Apr</td>\n",
       "      <td>0.323</td>\n",
       "      <td>Electronic</td>\n",
       "    </tr>\n",
       "  </tbody>\n",
       "</table>\n",
       "</div>"
      ],
      "text/plain": [
       "   instance_id           artist_name            track_name  popularity  \\\n",
       "0      32894.0              Röyksopp  Röyksopp's Night Out        27.0   \n",
       "1      46652.0  Thievery Corporation      The Shining Path        31.0   \n",
       "2      30097.0        Dillon Francis             Hurricane        28.0   \n",
       "3      62177.0              Dubloadz                 Nitro        34.0   \n",
       "4      24907.0           What So Not      Divide & Conquer        32.0   \n",
       "\n",
       "   acousticness  danceability  duration_ms  energy  instrumentalness key  \\\n",
       "0       0.00468         0.652         -1.0   0.941           0.79200  A#   \n",
       "1       0.01270         0.622     218293.0   0.890           0.95000   D   \n",
       "2       0.00306         0.620     215613.0   0.755           0.01180  G#   \n",
       "3       0.02540         0.774     166875.0   0.700           0.00253  C#   \n",
       "4       0.00465         0.638     222369.0   0.587           0.90900  F#   \n",
       "\n",
       "   liveness  loudness   mode  speechiness               tempo obtained_date  \\\n",
       "0     0.115    -5.201  Minor       0.0748             100.889         4-Apr   \n",
       "1     0.124    -7.043  Minor       0.0300  115.00200000000001         4-Apr   \n",
       "2     0.534    -4.617  Major       0.0345             127.994         4-Apr   \n",
       "3     0.157    -4.498  Major       0.2390             128.014         4-Apr   \n",
       "4     0.157    -6.266  Major       0.0413             145.036         4-Apr   \n",
       "\n",
       "   valence music_genre  \n",
       "0    0.759  Electronic  \n",
       "1    0.531  Electronic  \n",
       "2    0.333  Electronic  \n",
       "3    0.270  Electronic  \n",
       "4    0.323  Electronic  "
      ]
     },
     "execution_count": 3,
     "metadata": {},
     "output_type": "execute_result"
    }
   ],
   "source": [
    "data.head()"
   ]
  },
  {
   "cell_type": "code",
   "execution_count": 4,
   "id": "2169fd80",
   "metadata": {},
   "outputs": [
    {
     "name": "stdout",
     "output_type": "stream",
     "text": [
      "(50005, 18)\n"
     ]
    }
   ],
   "source": [
    "print(data.shape)"
   ]
  },
  {
   "cell_type": "code",
   "execution_count": 5,
   "id": "61fc0716",
   "metadata": {},
   "outputs": [
    {
     "name": "stdout",
     "output_type": "stream",
     "text": [
      "<class 'pandas.core.frame.DataFrame'>\n",
      "RangeIndex: 50005 entries, 0 to 50004\n",
      "Data columns (total 18 columns):\n",
      " #   Column            Non-Null Count  Dtype  \n",
      "---  ------            --------------  -----  \n",
      " 0   instance_id       50000 non-null  float64\n",
      " 1   artist_name       50000 non-null  object \n",
      " 2   track_name        50000 non-null  object \n",
      " 3   popularity        50000 non-null  float64\n",
      " 4   acousticness      50000 non-null  float64\n",
      " 5   danceability      50000 non-null  float64\n",
      " 6   duration_ms       50000 non-null  float64\n",
      " 7   energy            50000 non-null  float64\n",
      " 8   instrumentalness  50000 non-null  float64\n",
      " 9   key               50000 non-null  object \n",
      " 10  liveness          50000 non-null  float64\n",
      " 11  loudness          50000 non-null  float64\n",
      " 12  mode              50000 non-null  object \n",
      " 13  speechiness       50000 non-null  float64\n",
      " 14  tempo             50000 non-null  object \n",
      " 15  obtained_date     50000 non-null  object \n",
      " 16  valence           50000 non-null  float64\n",
      " 17  music_genre       50000 non-null  object \n",
      "dtypes: float64(11), object(7)\n",
      "memory usage: 5.5+ MB\n"
     ]
    }
   ],
   "source": [
    "data.info()"
   ]
  },
  {
   "cell_type": "markdown",
   "id": "8ac7692c",
   "metadata": {},
   "source": [
    "- *Data consists of 17 attributes and 1 target column music_genre*"
   ]
  },
  {
   "cell_type": "code",
   "execution_count": 6,
   "id": "9fe9c514",
   "metadata": {},
   "outputs": [
    {
     "name": "stdout",
     "output_type": "stream",
     "text": [
      "music_genre\n",
      "Alternative    5000\n",
      "Anime          5000\n",
      "Blues          5000\n",
      "Classical      5000\n",
      "Country        5000\n",
      "Electronic     5000\n",
      "Hip-Hop        5000\n",
      "Jazz           5000\n",
      "Rap            5000\n",
      "Rock           5000\n",
      "dtype: int64\n",
      "Sum:  50000\n"
     ]
    },
    {
     "data": {
      "image/png": "[encoded data removed]",
      "text/plain": [
       "<Figure size 720x432 with 1 Axes>"
      ]
     },
     "metadata": {
      "needs_background": "light"
     },
     "output_type": "display_data"
    }
   ],
   "source": [
    "print(data.groupby(['music_genre']).size())\n",
    "print(\"Sum: \", data.groupby(['music_genre']).size().sum())\n",
    "data.groupby(['music_genre']).size().plot(kind='bar', figsize = (10,6))\n",
    "plt.xlabel(\"\", fontsize = 20)\n",
    "plt.ylabel(\"\", fontsize = 20)\n",
    "plt.title(\"Target class distribution\", fontsize = 20)\n",
    "plt.show()"
   ]
  },
  {
   "cell_type": "code",
   "execution_count": 7,
   "id": "5f93f395",
   "metadata": {},
   "outputs": [
    {
     "data": {
      "text/html": [
       "<div>\n",
       "<style scoped>\n",
       "    .dataframe tbody tr th:only-of-type {\n",
       "        vertical-align: middle;\n",
       "    }\n",
       "\n",
       "    .dataframe tbody tr th {\n",
       "        vertical-align: top;\n",
       "    }\n",
       "\n",
       "    .dataframe thead th {\n",
       "        text-align: right;\n",
       "    }\n",
       "</style>\n",
       "<table border=\"1\" class=\"dataframe\">\n",
       "  <thead>\n",
       "    <tr style=\"text-align: right;\">\n",
       "      <th></th>\n",
       "      <th>instance_id</th>\n",
       "      <th>popularity</th>\n",
       "      <th>acousticness</th>\n",
       "      <th>danceability</th>\n",
       "      <th>duration_ms</th>\n",
       "      <th>energy</th>\n",
       "      <th>instrumentalness</th>\n",
       "      <th>liveness</th>\n",
       "      <th>loudness</th>\n",
       "      <th>speechiness</th>\n",
       "      <th>valence</th>\n",
       "    </tr>\n",
       "  </thead>\n",
       "  <tbody>\n",
       "    <tr>\n",
       "      <th>count</th>\n",
       "      <td>50000.000000</td>\n",
       "      <td>50000.000000</td>\n",
       "      <td>50000.000000</td>\n",
       "      <td>50000.000000</td>\n",
       "      <td>5.000000e+04</td>\n",
       "      <td>50000.000000</td>\n",
       "      <td>50000.000000</td>\n",
       "      <td>50000.000000</td>\n",
       "      <td>50000.000000</td>\n",
       "      <td>50000.000000</td>\n",
       "      <td>50000.000000</td>\n",
       "    </tr>\n",
       "    <tr>\n",
       "      <th>mean</th>\n",
       "      <td>55888.396360</td>\n",
       "      <td>44.220420</td>\n",
       "      <td>0.306383</td>\n",
       "      <td>0.558241</td>\n",
       "      <td>2.212526e+05</td>\n",
       "      <td>0.599755</td>\n",
       "      <td>0.181601</td>\n",
       "      <td>0.193896</td>\n",
       "      <td>-9.133761</td>\n",
       "      <td>0.093586</td>\n",
       "      <td>0.456264</td>\n",
       "    </tr>\n",
       "    <tr>\n",
       "      <th>std</th>\n",
       "      <td>20725.256253</td>\n",
       "      <td>15.542008</td>\n",
       "      <td>0.341340</td>\n",
       "      <td>0.178632</td>\n",
       "      <td>1.286720e+05</td>\n",
       "      <td>0.264559</td>\n",
       "      <td>0.325409</td>\n",
       "      <td>0.161637</td>\n",
       "      <td>6.162990</td>\n",
       "      <td>0.101373</td>\n",
       "      <td>0.247119</td>\n",
       "    </tr>\n",
       "    <tr>\n",
       "      <th>min</th>\n",
       "      <td>20002.000000</td>\n",
       "      <td>0.000000</td>\n",
       "      <td>0.000000</td>\n",
       "      <td>0.059600</td>\n",
       "      <td>-1.000000e+00</td>\n",
       "      <td>0.000792</td>\n",
       "      <td>0.000000</td>\n",
       "      <td>0.009670</td>\n",
       "      <td>-47.046000</td>\n",
       "      <td>0.022300</td>\n",
       "      <td>0.000000</td>\n",
       "    </tr>\n",
       "    <tr>\n",
       "      <th>25%</th>\n",
       "      <td>37973.500000</td>\n",
       "      <td>34.000000</td>\n",
       "      <td>0.020000</td>\n",
       "      <td>0.442000</td>\n",
       "      <td>1.748000e+05</td>\n",
       "      <td>0.433000</td>\n",
       "      <td>0.000000</td>\n",
       "      <td>0.096900</td>\n",
       "      <td>-10.860000</td>\n",
       "      <td>0.036100</td>\n",
       "      <td>0.257000</td>\n",
       "    </tr>\n",
       "    <tr>\n",
       "      <th>50%</th>\n",
       "      <td>55913.500000</td>\n",
       "      <td>45.000000</td>\n",
       "      <td>0.144000</td>\n",
       "      <td>0.568000</td>\n",
       "      <td>2.192810e+05</td>\n",
       "      <td>0.643000</td>\n",
       "      <td>0.000158</td>\n",
       "      <td>0.126000</td>\n",
       "      <td>-7.276500</td>\n",
       "      <td>0.048900</td>\n",
       "      <td>0.448000</td>\n",
       "    </tr>\n",
       "    <tr>\n",
       "      <th>75%</th>\n",
       "      <td>73863.250000</td>\n",
       "      <td>56.000000</td>\n",
       "      <td>0.552000</td>\n",
       "      <td>0.687000</td>\n",
       "      <td>2.686122e+05</td>\n",
       "      <td>0.815000</td>\n",
       "      <td>0.155000</td>\n",
       "      <td>0.244000</td>\n",
       "      <td>-5.173000</td>\n",
       "      <td>0.098525</td>\n",
       "      <td>0.648000</td>\n",
       "    </tr>\n",
       "    <tr>\n",
       "      <th>max</th>\n",
       "      <td>91759.000000</td>\n",
       "      <td>99.000000</td>\n",
       "      <td>0.996000</td>\n",
       "      <td>0.986000</td>\n",
       "      <td>4.830606e+06</td>\n",
       "      <td>0.999000</td>\n",
       "      <td>0.996000</td>\n",
       "      <td>1.000000</td>\n",
       "      <td>3.744000</td>\n",
       "      <td>0.942000</td>\n",
       "      <td>0.992000</td>\n",
       "    </tr>\n",
       "  </tbody>\n",
       "</table>\n",
       "</div>"
      ],
      "text/plain": [
       "        instance_id    popularity  acousticness  danceability   duration_ms  \\\n",
       "count  50000.000000  50000.000000  50000.000000  50000.000000  5.000000e+04   \n",
       "mean   55888.396360     44.220420      0.306383      0.558241  2.212526e+05   \n",
       "std    20725.256253     15.542008      0.341340      0.178632  1.286720e+05   \n",
       "min    20002.000000      0.000000      0.000000      0.059600 -1.000000e+00   \n",
       "25%    37973.500000     34.000000      0.020000      0.442000  1.748000e+05   \n",
       "50%    55913.500000     45.000000      0.144000      0.568000  2.192810e+05   \n",
       "75%    73863.250000     56.000000      0.552000      0.687000  2.686122e+05   \n",
       "max    91759.000000     99.000000      0.996000      0.986000  4.830606e+06   \n",
       "\n",
       "             energy  instrumentalness      liveness      loudness  \\\n",
       "count  50000.000000      50000.000000  50000.000000  50000.000000   \n",
       "mean       0.599755          0.181601      0.193896     -9.133761   \n",
       "std        0.264559          0.325409      0.161637      6.162990   \n",
       "min        0.000792          0.000000      0.009670    -47.046000   \n",
       "25%        0.433000          0.000000      0.096900    -10.860000   \n",
       "50%        0.643000          0.000158      0.126000     -7.276500   \n",
       "75%        0.815000          0.155000      0.244000     -5.173000   \n",
       "max        0.999000          0.996000      1.000000      3.744000   \n",
       "\n",
       "        speechiness       valence  \n",
       "count  50000.000000  50000.000000  \n",
       "mean       0.093586      0.456264  \n",
       "std        0.101373      0.247119  \n",
       "min        0.022300      0.000000  \n",
       "25%        0.036100      0.257000  \n",
       "50%        0.048900      0.448000  \n",
       "75%        0.098525      0.648000  \n",
       "max        0.942000      0.992000  "
      ]
     },
     "execution_count": 7,
     "metadata": {},
     "output_type": "execute_result"
    }
   ],
   "source": [
    "data.describe()"
   ]
  },
  {
   "cell_type": "markdown",
   "id": "96541c60",
   "metadata": {},
   "source": [
    "- *We have 10 targets - 10 music genres - for each 5000 instances*\n",
    "- *There are 50005 entries but 50000 instances so there are 5 blank entries in data*"
   ]
  },
  {
   "cell_type": "code",
   "execution_count": 8,
   "id": "460249f6",
   "metadata": {},
   "outputs": [
    {
     "data": {
      "image/png": "[encoded data removed]",
      "text/plain": [
       "<Figure size 432x288 with 1 Axes>"
      ]
     },
     "metadata": {
      "needs_background": "light"
     },
     "output_type": "display_data"
    },
    {
     "data": {
      "image/png": "[encoded data removed]",
      "text/plain": [
       "<Figure size 432x288 with 1 Axes>"
      ]
     },
     "metadata": {
      "needs_background": "light"
     },
     "output_type": "display_data"
    },
    {
     "data": {
      "image/png": "[encoded data removed]",
      "text/plain": [
       "<Figure size 432x288 with 1 Axes>"
      ]
     },
     "metadata": {
      "needs_background": "light"
     },
     "output_type": "display_data"
    },
    {
     "data": {
      "image/png": "[encoded data removed]",
      "text/plain": [
       "<Figure size 432x288 with 1 Axes>"
      ]
     },
     "metadata": {
      "needs_background": "light"
     },
     "output_type": "display_data"
    },
    {
     "data": {
      "image/png": "[encoded data removed]",
      "text/plain": [
       "<Figure size 432x288 with 1 Axes>"
      ]
     },
     "metadata": {
      "needs_background": "light"
     },
     "output_type": "display_data"
    },
    {
     "data": {
      "image/png": "[encoded data removed]",
      "text/plain": [
       "<Figure size 432x288 with 1 Axes>"
      ]
     },
     "metadata": {
      "needs_background": "light"
     },
     "output_type": "display_data"
    },
    {
     "data": {
      "image/png": "[encoded data removed]",
      "text/plain": [
       "<Figure size 432x288 with 1 Axes>"
      ]
     },
     "metadata": {
      "needs_background": "light"
     },
     "output_type": "display_data"
    },
    {
     "data": {
      "image/png": "[encoded data removed]",
      "text/plain": [
       "<Figure size 432x288 with 1 Axes>"
      ]
     },
     "metadata": {
      "needs_background": "light"
     },
     "output_type": "display_data"
    },
    {
     "data": {
      "image/png": "[encoded data removed]",
      "text/plain": [
       "<Figure size 432x288 with 1 Axes>"
      ]
     },
     "metadata": {
      "needs_background": "light"
     },
     "output_type": "display_data"
    },
    {
     "data": {
      "image/png": "[encoded data removed]",
      "text/plain": [
       "<Figure size 432x288 with 1 Axes>"
      ]
     },
     "metadata": {
      "needs_background": "light"
     },
     "output_type": "display_data"
    },
    {
     "data": {
      "image/png": "[encoded data removed]",
      "text/plain": [
       "<Figure size 432x288 with 1 Axes>"
      ]
     },
     "metadata": {
      "needs_background": "light"
     },
     "output_type": "display_data"
    },
    {
     "data": {
      "image/png": "[encoded data removed]",
      "text/plain": [
       "<Figure size 432x288 with 1 Axes>"
      ]
     },
     "metadata": {
      "needs_background": "light"
     },
     "output_type": "display_data"
    },
    {
     "data": {
      "image/png": "[encoded data removed]",
      "text/plain": [
       "<Figure size 432x288 with 1 Axes>"
      ]
     },
     "metadata": {
      "needs_background": "light"
     },
     "output_type": "display_data"
    },
    {
     "data": {
      "image/png": "[encoded data removed]",
      "text/plain": [
       "<Figure size 432x288 with 1 Axes>"
      ]
     },
     "metadata": {
      "needs_background": "light"
     },
     "output_type": "display_data"
    },
    {
     "data": {
      "image/png": "[encoded data removed]",
      "text/plain": [
       "<Figure size 432x288 with 1 Axes>"
      ]
     },
     "metadata": {
      "needs_background": "light"
     },
     "output_type": "display_data"
    },
    {
     "data": {
      "image/png": "[encoded data removed]",
      "text/plain": [
       "<Figure size 432x288 with 1 Axes>"
      ]
     },
     "metadata": {
      "needs_background": "light"
     },
     "output_type": "display_data"
    },
    {
     "data": {
      "image/png": "[encoded data removed]",
      "text/plain": [
       "<Figure size 432x288 with 1 Axes>"
      ]
     },
     "metadata": {
      "needs_background": "light"
     },
     "output_type": "display_data"
    },
    {
     "data": {
      "image/png": "[encoded data removed]",
      "text/plain": [
       "<Figure size 432x288 with 1 Axes>"
      ]
     },
     "metadata": {
      "needs_background": "light"
     },
     "output_type": "display_data"
    }
   ],
   "source": [
    "for column in data.columns:\n",
    "    plt.figure()\n",
    "    data[column].value_counts().head(15).plot.bar()\n",
    "    plt.title(column.upper())"
   ]
  },
  {
   "cell_type": "markdown",
   "id": "810a4660",
   "metadata": {},
   "source": [
    "There are several missing values in data:\n",
    "- unknown artist_name: \"empty_field\": 2489\n",
    "- unknown duration_ms: -1 : 4939\n",
    "- unknown tempo: '?' : 4980"
   ]
  },
  {
   "cell_type": "markdown",
   "id": "c00bbb98",
   "metadata": {},
   "source": [
    "### Distributions of features"
   ]
  },
  {
   "cell_type": "code",
   "execution_count": 9,
   "id": "723a13a7",
   "metadata": {},
   "outputs": [
    {
     "data": {
      "image/png": "[encoded data removed]",
      "text/plain": [
       "<Figure size 1296x864 with 12 Axes>"
      ]
     },
     "metadata": {
      "needs_background": "light"
     },
     "output_type": "display_data"
    }
   ],
   "source": [
    "data.hist(figsize =(18,12))\n",
    "plt.show()"
   ]
  },
  {
   "cell_type": "markdown",
   "id": "f2c507c6",
   "metadata": {},
   "source": [
    "# Data preparation"
   ]
  },
  {
   "cell_type": "markdown",
   "id": "654a977f",
   "metadata": {},
   "source": [
    "### 1. Removing 5 blank entries"
   ]
  },
  {
   "cell_type": "code",
   "execution_count": 10,
   "id": "1e34b6c8",
   "metadata": {},
   "outputs": [
    {
     "data": {
      "text/html": [
       "<div>\n",
       "<style scoped>\n",
       "    .dataframe tbody tr th:only-of-type {\n",
       "        vertical-align: middle;\n",
       "    }\n",
       "\n",
       "    .dataframe tbody tr th {\n",
       "        vertical-align: top;\n",
       "    }\n",
       "\n",
       "    .dataframe thead th {\n",
       "        text-align: right;\n",
       "    }\n",
       "</style>\n",
       "<table border=\"1\" class=\"dataframe\">\n",
       "  <thead>\n",
       "    <tr style=\"text-align: right;\">\n",
       "      <th></th>\n",
       "      <th>instance_id</th>\n",
       "      <th>artist_name</th>\n",
       "      <th>track_name</th>\n",
       "      <th>popularity</th>\n",
       "      <th>acousticness</th>\n",
       "      <th>danceability</th>\n",
       "      <th>duration_ms</th>\n",
       "      <th>energy</th>\n",
       "      <th>instrumentalness</th>\n",
       "      <th>key</th>\n",
       "      <th>liveness</th>\n",
       "      <th>loudness</th>\n",
       "      <th>mode</th>\n",
       "      <th>speechiness</th>\n",
       "      <th>tempo</th>\n",
       "      <th>obtained_date</th>\n",
       "      <th>valence</th>\n",
       "      <th>music_genre</th>\n",
       "    </tr>\n",
       "  </thead>\n",
       "  <tbody>\n",
       "    <tr>\n",
       "      <th>10000</th>\n",
       "      <td>NaN</td>\n",
       "      <td>NaN</td>\n",
       "      <td>NaN</td>\n",
       "      <td>NaN</td>\n",
       "      <td>NaN</td>\n",
       "      <td>NaN</td>\n",
       "      <td>NaN</td>\n",
       "      <td>NaN</td>\n",
       "      <td>NaN</td>\n",
       "      <td>NaN</td>\n",
       "      <td>NaN</td>\n",
       "      <td>NaN</td>\n",
       "      <td>NaN</td>\n",
       "      <td>NaN</td>\n",
       "      <td>NaN</td>\n",
       "      <td>NaN</td>\n",
       "      <td>NaN</td>\n",
       "      <td>NaN</td>\n",
       "    </tr>\n",
       "    <tr>\n",
       "      <th>10001</th>\n",
       "      <td>NaN</td>\n",
       "      <td>NaN</td>\n",
       "      <td>NaN</td>\n",
       "      <td>NaN</td>\n",
       "      <td>NaN</td>\n",
       "      <td>NaN</td>\n",
       "      <td>NaN</td>\n",
       "      <td>NaN</td>\n",
       "      <td>NaN</td>\n",
       "      <td>NaN</td>\n",
       "      <td>NaN</td>\n",
       "      <td>NaN</td>\n",
       "      <td>NaN</td>\n",
       "      <td>NaN</td>\n",
       "      <td>NaN</td>\n",
       "      <td>NaN</td>\n",
       "      <td>NaN</td>\n",
       "      <td>NaN</td>\n",
       "    </tr>\n",
       "    <tr>\n",
       "      <th>10002</th>\n",
       "      <td>NaN</td>\n",
       "      <td>NaN</td>\n",
       "      <td>NaN</td>\n",
       "      <td>NaN</td>\n",
       "      <td>NaN</td>\n",
       "      <td>NaN</td>\n",
       "      <td>NaN</td>\n",
       "      <td>NaN</td>\n",
       "      <td>NaN</td>\n",
       "      <td>NaN</td>\n",
       "      <td>NaN</td>\n",
       "      <td>NaN</td>\n",
       "      <td>NaN</td>\n",
       "      <td>NaN</td>\n",
       "      <td>NaN</td>\n",
       "      <td>NaN</td>\n",
       "      <td>NaN</td>\n",
       "      <td>NaN</td>\n",
       "    </tr>\n",
       "    <tr>\n",
       "      <th>10003</th>\n",
       "      <td>NaN</td>\n",
       "      <td>NaN</td>\n",
       "      <td>NaN</td>\n",
       "      <td>NaN</td>\n",
       "      <td>NaN</td>\n",
       "      <td>NaN</td>\n",
       "      <td>NaN</td>\n",
       "      <td>NaN</td>\n",
       "      <td>NaN</td>\n",
       "      <td>NaN</td>\n",
       "      <td>NaN</td>\n",
       "      <td>NaN</td>\n",
       "      <td>NaN</td>\n",
       "      <td>NaN</td>\n",
       "      <td>NaN</td>\n",
       "      <td>NaN</td>\n",
       "      <td>NaN</td>\n",
       "      <td>NaN</td>\n",
       "    </tr>\n",
       "    <tr>\n",
       "      <th>10004</th>\n",
       "      <td>NaN</td>\n",
       "      <td>NaN</td>\n",
       "      <td>NaN</td>\n",
       "      <td>NaN</td>\n",
       "      <td>NaN</td>\n",
       "      <td>NaN</td>\n",
       "      <td>NaN</td>\n",
       "      <td>NaN</td>\n",
       "      <td>NaN</td>\n",
       "      <td>NaN</td>\n",
       "      <td>NaN</td>\n",
       "      <td>NaN</td>\n",
       "      <td>NaN</td>\n",
       "      <td>NaN</td>\n",
       "      <td>NaN</td>\n",
       "      <td>NaN</td>\n",
       "      <td>NaN</td>\n",
       "      <td>NaN</td>\n",
       "    </tr>\n",
       "  </tbody>\n",
       "</table>\n",
       "</div>"
      ],
      "text/plain": [
       "       instance_id artist_name track_name  popularity  acousticness  \\\n",
       "10000          NaN         NaN        NaN         NaN           NaN   \n",
       "10001          NaN         NaN        NaN         NaN           NaN   \n",
       "10002          NaN         NaN        NaN         NaN           NaN   \n",
       "10003          NaN         NaN        NaN         NaN           NaN   \n",
       "10004          NaN         NaN        NaN         NaN           NaN   \n",
       "\n",
       "       danceability  duration_ms  energy  instrumentalness  key  liveness  \\\n",
       "10000           NaN          NaN     NaN               NaN  NaN       NaN   \n",
       "10001           NaN          NaN     NaN               NaN  NaN       NaN   \n",
       "10002           NaN          NaN     NaN               NaN  NaN       NaN   \n",
       "10003           NaN          NaN     NaN               NaN  NaN       NaN   \n",
       "10004           NaN          NaN     NaN               NaN  NaN       NaN   \n",
       "\n",
       "       loudness mode  speechiness tempo obtained_date  valence music_genre  \n",
       "10000       NaN  NaN          NaN   NaN           NaN      NaN         NaN  \n",
       "10001       NaN  NaN          NaN   NaN           NaN      NaN         NaN  \n",
       "10002       NaN  NaN          NaN   NaN           NaN      NaN         NaN  \n",
       "10003       NaN  NaN          NaN   NaN           NaN      NaN         NaN  \n",
       "10004       NaN  NaN          NaN   NaN           NaN      NaN         NaN  "
      ]
     },
     "execution_count": 10,
     "metadata": {},
     "output_type": "execute_result"
    }
   ],
   "source": [
    "data[data['instance_id'].isna()]"
   ]
  },
  {
   "cell_type": "code",
   "execution_count": 11,
   "id": "9c4758aa",
   "metadata": {},
   "outputs": [
    {
     "data": {
      "text/html": [
       "<div>\n",
       "<style scoped>\n",
       "    .dataframe tbody tr th:only-of-type {\n",
       "        vertical-align: middle;\n",
       "    }\n",
       "\n",
       "    .dataframe tbody tr th {\n",
       "        vertical-align: top;\n",
       "    }\n",
       "\n",
       "    .dataframe thead th {\n",
       "        text-align: right;\n",
       "    }\n",
       "</style>\n",
       "<table border=\"1\" class=\"dataframe\">\n",
       "  <thead>\n",
       "    <tr style=\"text-align: right;\">\n",
       "      <th></th>\n",
       "      <th>instance_id</th>\n",
       "      <th>artist_name</th>\n",
       "      <th>track_name</th>\n",
       "      <th>popularity</th>\n",
       "      <th>acousticness</th>\n",
       "      <th>danceability</th>\n",
       "      <th>duration_ms</th>\n",
       "      <th>energy</th>\n",
       "      <th>instrumentalness</th>\n",
       "      <th>key</th>\n",
       "      <th>liveness</th>\n",
       "      <th>loudness</th>\n",
       "      <th>mode</th>\n",
       "      <th>speechiness</th>\n",
       "      <th>tempo</th>\n",
       "      <th>obtained_date</th>\n",
       "      <th>valence</th>\n",
       "      <th>music_genre</th>\n",
       "    </tr>\n",
       "  </thead>\n",
       "  <tbody>\n",
       "  </tbody>\n",
       "</table>\n",
       "</div>"
      ],
      "text/plain": [
       "Empty DataFrame\n",
       "Columns: [instance_id, artist_name, track_name, popularity, acousticness, danceability, duration_ms, energy, instrumentalness, key, liveness, loudness, mode, speechiness, tempo, obtained_date, valence, music_genre]\n",
       "Index: []"
      ]
     },
     "execution_count": 11,
     "metadata": {},
     "output_type": "execute_result"
    }
   ],
   "source": [
    "data = data.dropna(axis=0)\n",
    "data[data['instance_id'].isna()]"
   ]
  },
  {
   "cell_type": "markdown",
   "id": "606d5b21",
   "metadata": {},
   "source": [
    "### 2. Changing values of column mode from object to int to: 0: Minor, 1: Major"
   ]
  },
  {
   "cell_type": "code",
   "execution_count": 12,
   "id": "c36cfb7b",
   "metadata": {},
   "outputs": [],
   "source": [
    "data['mode'] = data['mode'].map({'Major': 1, 'Minor': 0})"
   ]
  },
  {
   "cell_type": "markdown",
   "id": "1409b85c",
   "metadata": {},
   "source": [
    "### 3. Changing the uknown value (-1) of duration_ms to the mean value of duration_ms of all songs."
   ]
  },
  {
   "cell_type": "code",
   "execution_count": 13,
   "id": "2cb47515",
   "metadata": {},
   "outputs": [
    {
     "name": "stdout",
     "output_type": "stream",
     "text": [
      "245503.54146601274\n"
     ]
    }
   ],
   "source": [
    "tmp = data[data['duration_ms'] != -1]\n",
    "mean_duration_ms = tmp['duration_ms'].mean()\n",
    "print(mean_duration_ms)"
   ]
  },
  {
   "cell_type": "code",
   "execution_count": 14,
   "id": "c8985fc5",
   "metadata": {},
   "outputs": [],
   "source": [
    "data.loc[data['duration_ms'] == -1, 'duration_ms'] = mean_duration_ms"
   ]
  },
  {
   "cell_type": "markdown",
   "id": "ee595ad7",
   "metadata": {},
   "source": [
    "### 4.Changing the unknown value ('?') of tempo to the mean value of tempo of all songs."
   ]
  },
  {
   "cell_type": "code",
   "execution_count": 15,
   "id": "fa3984cc",
   "metadata": {},
   "outputs": [
    {
     "name": "stdout",
     "output_type": "stream",
     "text": [
      "119.95296059529068\n"
     ]
    }
   ],
   "source": [
    "tmp = data[data['tempo'] != '?']\n",
    "mean_tempo = tmp['tempo'].astype(float).mean()\n",
    "print(mean_tempo)"
   ]
  },
  {
   "cell_type": "code",
   "execution_count": 16,
   "id": "da8f784e",
   "metadata": {},
   "outputs": [],
   "source": [
    "data.loc[data['tempo'] == '?', 'tempo'] = mean_tempo\n",
    "data['tempo'] = data['tempo'].astype('float')"
   ]
  },
  {
   "cell_type": "code",
   "execution_count": 17,
   "id": "a37d930a",
   "metadata": {},
   "outputs": [
    {
     "data": {
      "image/png": "[encoded data removed]",
      "text/plain": [
       "<Figure size 1296x360 with 3 Axes>"
      ]
     },
     "metadata": {
      "needs_background": "light"
     },
     "output_type": "display_data"
    }
   ],
   "source": [
    "fig, (ax1, ax2, ax3) = plt.subplots(1,3, figsize=(18,5))\n",
    "data['duration_ms'].value_counts().head(10).plot.bar(title='duration_ms', ax=ax1)\n",
    "data['tempo'].value_counts().head(10).plot.bar(title='tempo', ax=ax2)\n",
    "data['mode'].value_counts().head(10).plot.bar(title='mode', ax=ax3)\n",
    "plt.show()"
   ]
  },
  {
   "cell_type": "code",
   "execution_count": 18,
   "id": "96ac77b8",
   "metadata": {},
   "outputs": [
    {
     "data": {
      "text/html": [
       "<div>\n",
       "<style scoped>\n",
       "    .dataframe tbody tr th:only-of-type {\n",
       "        vertical-align: middle;\n",
       "    }\n",
       "\n",
       "    .dataframe tbody tr th {\n",
       "        vertical-align: top;\n",
       "    }\n",
       "\n",
       "    .dataframe thead th {\n",
       "        text-align: right;\n",
       "    }\n",
       "</style>\n",
       "<table border=\"1\" class=\"dataframe\">\n",
       "  <thead>\n",
       "    <tr style=\"text-align: right;\">\n",
       "      <th></th>\n",
       "      <th>instance_id</th>\n",
       "      <th>artist_name</th>\n",
       "      <th>track_name</th>\n",
       "      <th>popularity</th>\n",
       "      <th>acousticness</th>\n",
       "      <th>danceability</th>\n",
       "      <th>duration_ms</th>\n",
       "      <th>energy</th>\n",
       "      <th>instrumentalness</th>\n",
       "      <th>key</th>\n",
       "      <th>liveness</th>\n",
       "      <th>loudness</th>\n",
       "      <th>mode</th>\n",
       "      <th>speechiness</th>\n",
       "      <th>tempo</th>\n",
       "      <th>obtained_date</th>\n",
       "      <th>valence</th>\n",
       "      <th>music_genre</th>\n",
       "    </tr>\n",
       "  </thead>\n",
       "  <tbody>\n",
       "    <tr>\n",
       "      <th>0</th>\n",
       "      <td>32894.0</td>\n",
       "      <td>Röyksopp</td>\n",
       "      <td>Röyksopp's Night Out</td>\n",
       "      <td>27.0</td>\n",
       "      <td>0.00468</td>\n",
       "      <td>0.652</td>\n",
       "      <td>245503.541466</td>\n",
       "      <td>0.941</td>\n",
       "      <td>0.79200</td>\n",
       "      <td>A#</td>\n",
       "      <td>0.115</td>\n",
       "      <td>-5.201</td>\n",
       "      <td>0</td>\n",
       "      <td>0.0748</td>\n",
       "      <td>100.889</td>\n",
       "      <td>4-Apr</td>\n",
       "      <td>0.759</td>\n",
       "      <td>Electronic</td>\n",
       "    </tr>\n",
       "    <tr>\n",
       "      <th>1</th>\n",
       "      <td>46652.0</td>\n",
       "      <td>Thievery Corporation</td>\n",
       "      <td>The Shining Path</td>\n",
       "      <td>31.0</td>\n",
       "      <td>0.01270</td>\n",
       "      <td>0.622</td>\n",
       "      <td>218293.000000</td>\n",
       "      <td>0.890</td>\n",
       "      <td>0.95000</td>\n",
       "      <td>D</td>\n",
       "      <td>0.124</td>\n",
       "      <td>-7.043</td>\n",
       "      <td>0</td>\n",
       "      <td>0.0300</td>\n",
       "      <td>115.002</td>\n",
       "      <td>4-Apr</td>\n",
       "      <td>0.531</td>\n",
       "      <td>Electronic</td>\n",
       "    </tr>\n",
       "    <tr>\n",
       "      <th>2</th>\n",
       "      <td>30097.0</td>\n",
       "      <td>Dillon Francis</td>\n",
       "      <td>Hurricane</td>\n",
       "      <td>28.0</td>\n",
       "      <td>0.00306</td>\n",
       "      <td>0.620</td>\n",
       "      <td>215613.000000</td>\n",
       "      <td>0.755</td>\n",
       "      <td>0.01180</td>\n",
       "      <td>G#</td>\n",
       "      <td>0.534</td>\n",
       "      <td>-4.617</td>\n",
       "      <td>1</td>\n",
       "      <td>0.0345</td>\n",
       "      <td>127.994</td>\n",
       "      <td>4-Apr</td>\n",
       "      <td>0.333</td>\n",
       "      <td>Electronic</td>\n",
       "    </tr>\n",
       "    <tr>\n",
       "      <th>3</th>\n",
       "      <td>62177.0</td>\n",
       "      <td>Dubloadz</td>\n",
       "      <td>Nitro</td>\n",
       "      <td>34.0</td>\n",
       "      <td>0.02540</td>\n",
       "      <td>0.774</td>\n",
       "      <td>166875.000000</td>\n",
       "      <td>0.700</td>\n",
       "      <td>0.00253</td>\n",
       "      <td>C#</td>\n",
       "      <td>0.157</td>\n",
       "      <td>-4.498</td>\n",
       "      <td>1</td>\n",
       "      <td>0.2390</td>\n",
       "      <td>128.014</td>\n",
       "      <td>4-Apr</td>\n",
       "      <td>0.270</td>\n",
       "      <td>Electronic</td>\n",
       "    </tr>\n",
       "    <tr>\n",
       "      <th>4</th>\n",
       "      <td>24907.0</td>\n",
       "      <td>What So Not</td>\n",
       "      <td>Divide &amp; Conquer</td>\n",
       "      <td>32.0</td>\n",
       "      <td>0.00465</td>\n",
       "      <td>0.638</td>\n",
       "      <td>222369.000000</td>\n",
       "      <td>0.587</td>\n",
       "      <td>0.90900</td>\n",
       "      <td>F#</td>\n",
       "      <td>0.157</td>\n",
       "      <td>-6.266</td>\n",
       "      <td>1</td>\n",
       "      <td>0.0413</td>\n",
       "      <td>145.036</td>\n",
       "      <td>4-Apr</td>\n",
       "      <td>0.323</td>\n",
       "      <td>Electronic</td>\n",
       "    </tr>\n",
       "  </tbody>\n",
       "</table>\n",
       "</div>"
      ],
      "text/plain": [
       "   instance_id           artist_name            track_name  popularity  \\\n",
       "0      32894.0              Röyksopp  Röyksopp's Night Out        27.0   \n",
       "1      46652.0  Thievery Corporation      The Shining Path        31.0   \n",
       "2      30097.0        Dillon Francis             Hurricane        28.0   \n",
       "3      62177.0              Dubloadz                 Nitro        34.0   \n",
       "4      24907.0           What So Not      Divide & Conquer        32.0   \n",
       "\n",
       "   acousticness  danceability    duration_ms  energy  instrumentalness key  \\\n",
       "0       0.00468         0.652  245503.541466   0.941           0.79200  A#   \n",
       "1       0.01270         0.622  218293.000000   0.890           0.95000   D   \n",
       "2       0.00306         0.620  215613.000000   0.755           0.01180  G#   \n",
       "3       0.02540         0.774  166875.000000   0.700           0.00253  C#   \n",
       "4       0.00465         0.638  222369.000000   0.587           0.90900  F#   \n",
       "\n",
       "   liveness  loudness  mode  speechiness    tempo obtained_date  valence  \\\n",
       "0     0.115    -5.201     0       0.0748  100.889         4-Apr    0.759   \n",
       "1     0.124    -7.043     0       0.0300  115.002         4-Apr    0.531   \n",
       "2     0.534    -4.617     1       0.0345  127.994         4-Apr    0.333   \n",
       "3     0.157    -4.498     1       0.2390  128.014         4-Apr    0.270   \n",
       "4     0.157    -6.266     1       0.0413  145.036         4-Apr    0.323   \n",
       "\n",
       "  music_genre  \n",
       "0  Electronic  \n",
       "1  Electronic  \n",
       "2  Electronic  \n",
       "3  Electronic  \n",
       "4  Electronic  "
      ]
     },
     "execution_count": 18,
     "metadata": {},
     "output_type": "execute_result"
    }
   ],
   "source": [
    "data.head()"
   ]
  },
  {
   "cell_type": "code",
   "execution_count": 19,
   "id": "b09e700b",
   "metadata": {},
   "outputs": [
    {
     "name": "stdout",
     "output_type": "stream",
     "text": [
      "<class 'pandas.core.frame.DataFrame'>\n",
      "Int64Index: 50000 entries, 0 to 50004\n",
      "Data columns (total 18 columns):\n",
      " #   Column            Non-Null Count  Dtype  \n",
      "---  ------            --------------  -----  \n",
      " 0   instance_id       50000 non-null  float64\n",
      " 1   artist_name       50000 non-null  object \n",
      " 2   track_name        50000 non-null  object \n",
      " 3   popularity        50000 non-null  float64\n",
      " 4   acousticness      50000 non-null  float64\n",
      " 5   danceability      50000 non-null  float64\n",
      " 6   duration_ms       50000 non-null  float64\n",
      " 7   energy            50000 non-null  float64\n",
      " 8   instrumentalness  50000 non-null  float64\n",
      " 9   key               50000 non-null  object \n",
      " 10  liveness          50000 non-null  float64\n",
      " 11  loudness          50000 non-null  float64\n",
      " 12  mode              50000 non-null  int64  \n",
      " 13  speechiness       50000 non-null  float64\n",
      " 14  tempo             50000 non-null  float64\n",
      " 15  obtained_date     50000 non-null  object \n",
      " 16  valence           50000 non-null  float64\n",
      " 17  music_genre       50000 non-null  object \n",
      "dtypes: float64(12), int64(1), object(5)\n",
      "memory usage: 6.3+ MB\n"
     ]
    }
   ],
   "source": [
    "data.info()"
   ]
  },
  {
   "cell_type": "markdown",
   "id": "6ef1e80e",
   "metadata": {},
   "source": [
    "# Part 1 - predicting song genres by numerical attributes"
   ]
  },
  {
   "cell_type": "markdown",
   "id": "9750ae14",
   "metadata": {},
   "source": [
    "### 1. Numerical attributes selection"
   ]
  },
  {
   "cell_type": "code",
   "execution_count": 23,
   "id": "adb9d016",
   "metadata": {},
   "outputs": [],
   "source": [
    "numerical_attributes = ['popularity', 'acousticness', 'danceability', 'duration_ms', \n",
    "                          'energy', 'instrumentalness', 'liveness', 'loudness', 'mode', \n",
    "                          'speechiness', 'tempo', 'valence']"
   ]
  },
  {
   "cell_type": "code",
   "execution_count": 24,
   "id": "a45757a6",
   "metadata": {},
   "outputs": [],
   "source": [
    "data1 = data[numerical_attributes + ['music_genre']]"
   ]
  },
  {
   "cell_type": "code",
   "execution_count": 25,
   "id": "5ffe35f3",
   "metadata": {},
   "outputs": [
    {
     "data": {
      "text/html": [
       "<div>\n",
       "<style scoped>\n",
       "    .dataframe tbody tr th:only-of-type {\n",
       "        vertical-align: middle;\n",
       "    }\n",
       "\n",
       "    .dataframe tbody tr th {\n",
       "        vertical-align: top;\n",
       "    }\n",
       "\n",
       "    .dataframe thead th {\n",
       "        text-align: right;\n",
       "    }\n",
       "</style>\n",
       "<table border=\"1\" class=\"dataframe\">\n",
       "  <thead>\n",
       "    <tr style=\"text-align: right;\">\n",
       "      <th></th>\n",
       "      <th>popularity</th>\n",
       "      <th>acousticness</th>\n",
       "      <th>danceability</th>\n",
       "      <th>duration_ms</th>\n",
       "      <th>energy</th>\n",
       "      <th>instrumentalness</th>\n",
       "      <th>liveness</th>\n",
       "      <th>loudness</th>\n",
       "      <th>mode</th>\n",
       "      <th>speechiness</th>\n",
       "      <th>tempo</th>\n",
       "      <th>valence</th>\n",
       "      <th>music_genre</th>\n",
       "    </tr>\n",
       "  </thead>\n",
       "  <tbody>\n",
       "    <tr>\n",
       "      <th>14891</th>\n",
       "      <td>40.0</td>\n",
       "      <td>0.959</td>\n",
       "      <td>0.588</td>\n",
       "      <td>375067.0</td>\n",
       "      <td>0.23400</td>\n",
       "      <td>0.60300</td>\n",
       "      <td>0.1030</td>\n",
       "      <td>-8.709</td>\n",
       "      <td>1</td>\n",
       "      <td>0.0334</td>\n",
       "      <td>69.110000</td>\n",
       "      <td>0.2510</td>\n",
       "      <td>Jazz</td>\n",
       "    </tr>\n",
       "    <tr>\n",
       "      <th>30050</th>\n",
       "      <td>27.0</td>\n",
       "      <td>0.486</td>\n",
       "      <td>0.404</td>\n",
       "      <td>604760.0</td>\n",
       "      <td>0.38500</td>\n",
       "      <td>0.00599</td>\n",
       "      <td>0.7040</td>\n",
       "      <td>-11.568</td>\n",
       "      <td>1</td>\n",
       "      <td>0.0334</td>\n",
       "      <td>119.952961</td>\n",
       "      <td>0.2830</td>\n",
       "      <td>Blues</td>\n",
       "    </tr>\n",
       "    <tr>\n",
       "      <th>34661</th>\n",
       "      <td>49.0</td>\n",
       "      <td>0.461</td>\n",
       "      <td>0.593</td>\n",
       "      <td>167840.0</td>\n",
       "      <td>0.55500</td>\n",
       "      <td>0.00010</td>\n",
       "      <td>0.0840</td>\n",
       "      <td>-14.291</td>\n",
       "      <td>1</td>\n",
       "      <td>0.0380</td>\n",
       "      <td>106.040000</td>\n",
       "      <td>0.7710</td>\n",
       "      <td>Blues</td>\n",
       "    </tr>\n",
       "    <tr>\n",
       "      <th>43026</th>\n",
       "      <td>41.0</td>\n",
       "      <td>0.983</td>\n",
       "      <td>0.154</td>\n",
       "      <td>644273.0</td>\n",
       "      <td>0.05730</td>\n",
       "      <td>0.93000</td>\n",
       "      <td>0.0552</td>\n",
       "      <td>-24.883</td>\n",
       "      <td>1</td>\n",
       "      <td>0.0352</td>\n",
       "      <td>90.050000</td>\n",
       "      <td>0.0384</td>\n",
       "      <td>Classical</td>\n",
       "    </tr>\n",
       "    <tr>\n",
       "      <th>44582</th>\n",
       "      <td>31.0</td>\n",
       "      <td>0.994</td>\n",
       "      <td>0.147</td>\n",
       "      <td>257000.0</td>\n",
       "      <td>0.00978</td>\n",
       "      <td>0.91500</td>\n",
       "      <td>0.1090</td>\n",
       "      <td>-29.588</td>\n",
       "      <td>1</td>\n",
       "      <td>0.0404</td>\n",
       "      <td>84.478000</td>\n",
       "      <td>0.0474</td>\n",
       "      <td>Classical</td>\n",
       "    </tr>\n",
       "  </tbody>\n",
       "</table>\n",
       "</div>"
      ],
      "text/plain": [
       "       popularity  acousticness  danceability  duration_ms   energy  \\\n",
       "14891        40.0         0.959         0.588     375067.0  0.23400   \n",
       "30050        27.0         0.486         0.404     604760.0  0.38500   \n",
       "34661        49.0         0.461         0.593     167840.0  0.55500   \n",
       "43026        41.0         0.983         0.154     644273.0  0.05730   \n",
       "44582        31.0         0.994         0.147     257000.0  0.00978   \n",
       "\n",
       "       instrumentalness  liveness  loudness  mode  speechiness       tempo  \\\n",
       "14891           0.60300    0.1030    -8.709     1       0.0334   69.110000   \n",
       "30050           0.00599    0.7040   -11.568     1       0.0334  119.952961   \n",
       "34661           0.00010    0.0840   -14.291     1       0.0380  106.040000   \n",
       "43026           0.93000    0.0552   -24.883     1       0.0352   90.050000   \n",
       "44582           0.91500    0.1090   -29.588     1       0.0404   84.478000   \n",
       "\n",
       "       valence music_genre  \n",
       "14891   0.2510        Jazz  \n",
       "30050   0.2830       Blues  \n",
       "34661   0.7710       Blues  \n",
       "43026   0.0384   Classical  \n",
       "44582   0.0474   Classical  "
      ]
     },
     "execution_count": 25,
     "metadata": {},
     "output_type": "execute_result"
    }
   ],
   "source": [
    "data1.sample(5)"
   ]
  },
  {
   "cell_type": "markdown",
   "id": "a95f1265",
   "metadata": {},
   "source": [
    "### 2. Comparison: mean values of attributes for each target."
   ]
  },
  {
   "cell_type": "code",
   "execution_count": 26,
   "id": "ff7c0ad0",
   "metadata": {},
   "outputs": [
    {
     "name": "stdout",
     "output_type": "stream",
     "text": [
      "POPULARITY\n",
      "music_genre\n",
      "Rap            60.4974\n",
      "Rock           59.6412\n",
      "Hip-Hop        58.3996\n",
      "Alternative    50.2242\n",
      "Country        46.0100\n",
      "Jazz           40.9286\n",
      "Electronic     38.1118\n",
      "Blues          34.8040\n",
      "Classical      29.3158\n",
      "Anime          24.2716\n",
      "Name: popularity, dtype: float64 \n",
      "\n",
      "ACOUSTICNESS\n",
      "music_genre\n",
      "Classical      0.869139\n",
      "Jazz           0.494564\n",
      "Blues          0.317830\n",
      "Anime          0.286968\n",
      "Country        0.268827\n",
      "Rock           0.191394\n",
      "Hip-Hop        0.179093\n",
      "Rap            0.169057\n",
      "Alternative    0.164983\n",
      "Electronic     0.121971\n",
      "Name: acousticness, dtype: float64 \n",
      "\n",
      "DANCEABILITY\n",
      "music_genre\n",
      "Hip-Hop        0.717373\n",
      "Rap            0.696605\n",
      "Electronic     0.619220\n",
      "Jazz           0.584736\n",
      "Country        0.577316\n",
      "Alternative    0.541124\n",
      "Rock           0.539230\n",
      "Blues          0.529243\n",
      "Anime          0.471002\n",
      "Classical      0.306560\n",
      "Name: danceability, dtype: float64 \n",
      "\n",
      "DURATION_MS\n",
      "music_genre\n",
      "Classical      303104.910538\n",
      "Electronic     268269.121906\n",
      "Jazz           262495.598222\n",
      "Blues          253016.834906\n",
      "Rock           237712.473305\n",
      "Alternative    234513.353772\n",
      "Anime          232105.558623\n",
      "Hip-Hop        222455.390864\n",
      "Rap            221648.457046\n",
      "Country        219713.715480\n",
      "Name: duration_ms, dtype: float64 \n",
      "\n",
      "ENERGY\n",
      "music_genre\n",
      "Electronic     0.738636\n",
      "Alternative    0.710880\n",
      "Rock           0.687792\n",
      "Anime          0.664568\n",
      "Rap            0.651301\n",
      "Hip-Hop        0.644334\n",
      "Country        0.638903\n",
      "Blues          0.609753\n",
      "Jazz           0.474847\n",
      "Classical      0.176534\n",
      "Name: energy, dtype: float64 \n",
      "\n",
      "INSTRUMENTALNESS\n",
      "music_genre\n",
      "Classical      0.600692\n",
      "Jazz           0.354271\n",
      "Electronic     0.348139\n",
      "Anime          0.278057\n",
      "Blues          0.094134\n",
      "Alternative    0.060818\n",
      "Rock           0.054656\n",
      "Hip-Hop        0.010836\n",
      "Rap            0.009084\n",
      "Country        0.005320\n",
      "Name: instrumentalness, dtype: float64 \n",
      "\n",
      "LIVENESS\n",
      "music_genre\n",
      "Blues          0.233206\n",
      "Electronic     0.209782\n",
      "Hip-Hop        0.200870\n",
      "Rap            0.198035\n",
      "Alternative    0.197119\n",
      "Anime          0.193444\n",
      "Country        0.187781\n",
      "Rock           0.185961\n",
      "Jazz           0.171721\n",
      "Classical      0.161046\n",
      "Name: liveness, dtype: float64 \n",
      "\n",
      "LOUDNESS\n",
      "music_genre\n",
      "Alternative    -6.517714\n",
      "Rap            -6.668337\n",
      "Hip-Hop        -6.851158\n",
      "Electronic     -7.034238\n",
      "Rock           -7.224354\n",
      "Country        -7.297150\n",
      "Anime          -7.963515\n",
      "Blues          -9.009528\n",
      "Jazz          -11.185364\n",
      "Classical     -21.586253\n",
      "Name: loudness, dtype: float64 \n",
      "\n",
      "MODE\n",
      "music_genre\n",
      "Country        0.8724\n",
      "Rock           0.7396\n",
      "Blues          0.7126\n",
      "Classical      0.6656\n",
      "Alternative    0.6334\n",
      "Anime          0.6202\n",
      "Hip-Hop        0.5554\n",
      "Rap            0.5526\n",
      "Electronic     0.5384\n",
      "Jazz           0.5296\n",
      "Name: mode, dtype: float64 \n",
      "\n",
      "SPEECHINESS\n",
      "music_genre\n",
      "Hip-Hop        0.207044\n",
      "Rap            0.186707\n",
      "Electronic     0.098891\n",
      "Alternative    0.088819\n",
      "Jazz           0.073629\n",
      "Anime          0.064608\n",
      "Blues          0.062157\n",
      "Rock           0.053403\n",
      "Classical      0.051575\n",
      "Country        0.049032\n",
      "Name: speechiness, dtype: float64 \n",
      "\n",
      "TEMPO\n",
      "music_genre\n",
      "Anime          126.111168\n",
      "Electronic     125.292162\n",
      "Country        123.390426\n",
      "Rock           122.431092\n",
      "Alternative    122.285214\n",
      "Blues          121.228699\n",
      "Rap            120.522753\n",
      "Hip-Hop        120.134821\n",
      "Jazz           112.490105\n",
      "Classical      105.643167\n",
      "Name: tempo, dtype: float64 \n",
      "\n",
      "VALENCE\n",
      "music_genre\n",
      "Blues          0.580788\n",
      "Country        0.536732\n",
      "Rock           0.520361\n",
      "Jazz           0.509248\n",
      "Hip-Hop        0.474927\n",
      "Rap            0.454999\n",
      "Alternative    0.447513\n",
      "Anime          0.437670\n",
      "Electronic     0.389884\n",
      "Classical      0.210523\n",
      "Name: valence, dtype: float64 \n",
      "\n"
     ]
    }
   ],
   "source": [
    "for attribute in numerical_attributes:\n",
    "    print(attribute.upper())\n",
    "    print(data1.groupby(['music_genre'])[attribute].mean().sort_values(ascending=False),'\\n')"
   ]
  },
  {
   "cell_type": "code",
   "execution_count": 27,
   "id": "acfa0080",
   "metadata": {
    "scrolled": false
   },
   "outputs": [
    {
     "data": {
      "image/png": "[encoded data removed]",
      "text/plain": [
       "<Figure size 1800x2520 with 16 Axes>"
      ]
     },
     "metadata": {
      "needs_background": "light"
     },
     "output_type": "display_data"
    }
   ],
   "source": [
    "N = ceil(len(numerical_attributes) ** (1/2))\n",
    "fig, axs = plt.subplots(N,N, figsize=(25,35))\n",
    "from itertools import product\n",
    "indexes = list(product(range(N), range(N)))\n",
    "\n",
    "for attribute, (i,j) in zip(numerical_attributes, indexes):\n",
    "    data1.groupby(['music_genre'])[attribute].mean().sort_values(ascending=False).plot.bar(ax=axs[i,j])\n",
    "    axs[i,j].plot(data1.groupby(['music_genre'])[attribute].mean().sort_values(ascending=False).index, [data1[attribute].mean() for x in range(len(data1.music_genre.unique()))], 'green')\n",
    "    axs[i,j].legend([attribute+' mean', attribute])\n",
    "\n",
    "fig.suptitle('Mean values of attributes for each target.', fontsize=25)\n",
    "plt.show()"
   ]
  },
  {
   "cell_type": "markdown",
   "id": "8fdc16e1",
   "metadata": {},
   "source": [
    "Conclusions:\n",
    "- For Classical genre duration, acousticness and instrumentalness are the highest (Classical genre seems to be predicted the best)\n",
    "- For Rap and Hip-Hop genres mean values for all attributes are very similar. They always appear next to each other on the lists above. (They probably will tend to confuse)\n",
    "- For Country and Rock genres mean values we can see also similarity for most of the attributes. "
   ]
  },
  {
   "cell_type": "markdown",
   "id": "582c224f",
   "metadata": {},
   "source": [
    "## Data standardization"
   ]
  },
  {
   "cell_type": "markdown",
   "id": "4262df2e",
   "metadata": {},
   "source": [
    "### 1. Values scaling using StandardScaler"
   ]
  },
  {
   "cell_type": "code",
   "execution_count": 28,
   "id": "48ccee09",
   "metadata": {},
   "outputs": [],
   "source": [
    "from sklearn.preprocessing import StandardScaler"
   ]
  },
  {
   "cell_type": "code",
   "execution_count": 29,
   "id": "c8af78b8",
   "metadata": {},
   "outputs": [
    {
     "data": {
      "text/html": [
       "<div>\n",
       "<style scoped>\n",
       "    .dataframe tbody tr th:only-of-type {\n",
       "        vertical-align: middle;\n",
       "    }\n",
       "\n",
       "    .dataframe tbody tr th {\n",
       "        vertical-align: top;\n",
       "    }\n",
       "\n",
       "    .dataframe thead th {\n",
       "        text-align: right;\n",
       "    }\n",
       "</style>\n",
       "<table border=\"1\" class=\"dataframe\">\n",
       "  <thead>\n",
       "    <tr style=\"text-align: right;\">\n",
       "      <th></th>\n",
       "      <th>popularity</th>\n",
       "      <th>acousticness</th>\n",
       "      <th>danceability</th>\n",
       "      <th>duration_ms</th>\n",
       "      <th>energy</th>\n",
       "      <th>instrumentalness</th>\n",
       "      <th>liveness</th>\n",
       "      <th>loudness</th>\n",
       "      <th>mode</th>\n",
       "      <th>speechiness</th>\n",
       "      <th>tempo</th>\n",
       "      <th>valence</th>\n",
       "      <th>music_genre</th>\n",
       "    </tr>\n",
       "  </thead>\n",
       "  <tbody>\n",
       "    <tr>\n",
       "      <th>0</th>\n",
       "      <td>-1.108003</td>\n",
       "      <td>-0.883886</td>\n",
       "      <td>0.524878</td>\n",
       "      <td>2.751216e-16</td>\n",
       "      <td>1.289876</td>\n",
       "      <td>1.875809</td>\n",
       "      <td>-0.488113</td>\n",
       "      <td>0.638132</td>\n",
       "      <td>-1.339082</td>\n",
       "      <td>-0.185322</td>\n",
       "      <td>-0.655673</td>\n",
       "      <td>1.225073</td>\n",
       "      <td>Electronic</td>\n",
       "    </tr>\n",
       "    <tr>\n",
       "      <th>1</th>\n",
       "      <td>-0.850633</td>\n",
       "      <td>-0.860390</td>\n",
       "      <td>0.356933</td>\n",
       "      <td>-2.572242e-01</td>\n",
       "      <td>1.097101</td>\n",
       "      <td>2.361357</td>\n",
       "      <td>-0.432433</td>\n",
       "      <td>0.339248</td>\n",
       "      <td>-1.339082</td>\n",
       "      <td>-0.627258</td>\n",
       "      <td>-0.170280</td>\n",
       "      <td>0.302431</td>\n",
       "      <td>Electronic</td>\n",
       "    </tr>\n",
       "    <tr>\n",
       "      <th>2</th>\n",
       "      <td>-1.043661</td>\n",
       "      <td>-0.888632</td>\n",
       "      <td>0.345737</td>\n",
       "      <td>-2.825585e-01</td>\n",
       "      <td>0.586813</td>\n",
       "      <td>-0.521812</td>\n",
       "      <td>2.104140</td>\n",
       "      <td>0.732892</td>\n",
       "      <td>0.746780</td>\n",
       "      <td>-0.582867</td>\n",
       "      <td>0.276558</td>\n",
       "      <td>-0.498812</td>\n",
       "      <td>Electronic</td>\n",
       "    </tr>\n",
       "    <tr>\n",
       "      <th>3</th>\n",
       "      <td>-0.657606</td>\n",
       "      <td>-0.823184</td>\n",
       "      <td>1.207853</td>\n",
       "      <td>-7.432841e-01</td>\n",
       "      <td>0.378918</td>\n",
       "      <td>-0.550300</td>\n",
       "      <td>-0.228269</td>\n",
       "      <td>0.752201</td>\n",
       "      <td>0.746780</td>\n",
       "      <td>1.434452</td>\n",
       "      <td>0.277246</td>\n",
       "      <td>-0.753752</td>\n",
       "      <td>Electronic</td>\n",
       "    </tr>\n",
       "    <tr>\n",
       "      <th>4</th>\n",
       "      <td>-0.786291</td>\n",
       "      <td>-0.883974</td>\n",
       "      <td>0.446504</td>\n",
       "      <td>-2.186933e-01</td>\n",
       "      <td>-0.048212</td>\n",
       "      <td>2.235361</td>\n",
       "      <td>-0.228269</td>\n",
       "      <td>0.465324</td>\n",
       "      <td>0.746780</td>\n",
       "      <td>-0.515787</td>\n",
       "      <td>0.862689</td>\n",
       "      <td>-0.539278</td>\n",
       "      <td>Electronic</td>\n",
       "    </tr>\n",
       "  </tbody>\n",
       "</table>\n",
       "</div>"
      ],
      "text/plain": [
       "   popularity  acousticness  danceability   duration_ms    energy  \\\n",
       "0   -1.108003     -0.883886      0.524878  2.751216e-16  1.289876   \n",
       "1   -0.850633     -0.860390      0.356933 -2.572242e-01  1.097101   \n",
       "2   -1.043661     -0.888632      0.345737 -2.825585e-01  0.586813   \n",
       "3   -0.657606     -0.823184      1.207853 -7.432841e-01  0.378918   \n",
       "4   -0.786291     -0.883974      0.446504 -2.186933e-01 -0.048212   \n",
       "\n",
       "   instrumentalness  liveness  loudness      mode  speechiness     tempo  \\\n",
       "0          1.875809 -0.488113  0.638132 -1.339082    -0.185322 -0.655673   \n",
       "1          2.361357 -0.432433  0.339248 -1.339082    -0.627258 -0.170280   \n",
       "2         -0.521812  2.104140  0.732892  0.746780    -0.582867  0.276558   \n",
       "3         -0.550300 -0.228269  0.752201  0.746780     1.434452  0.277246   \n",
       "4          2.235361 -0.228269  0.465324  0.746780    -0.515787  0.862689   \n",
       "\n",
       "    valence music_genre  \n",
       "0  1.225073  Electronic  \n",
       "1  0.302431  Electronic  \n",
       "2 -0.498812  Electronic  \n",
       "3 -0.753752  Electronic  \n",
       "4 -0.539278  Electronic  "
      ]
     },
     "execution_count": 29,
     "metadata": {},
     "output_type": "execute_result"
    }
   ],
   "source": [
    "std_scaler = StandardScaler()\n",
    "df = data1.copy()\n",
    "df.loc[:,numerical_attributes] = std_scaler.fit_transform(data1[numerical_attributes])\n",
    "df.head()"
   ]
  },
  {
   "cell_type": "markdown",
   "id": "dd349aa7",
   "metadata": {},
   "source": [
    "### 2. Changing the values of targets to numerical"
   ]
  },
  {
   "cell_type": "code",
   "execution_count": 30,
   "id": "af690877",
   "metadata": {},
   "outputs": [],
   "source": [
    "df['music_genre'] = df['music_genre'].map({'Electronic': 0, 'Anime': 1, 'Jazz': 2, 'Alternative': 3, \n",
    "                                           'Country': 4, 'Rap': 5, 'Blues': 6, 'Rock': 7, 'Classical': 8, \n",
    "                                           'Hip-Hop': 9})"
   ]
  },
  {
   "cell_type": "code",
   "execution_count": 31,
   "id": "2d1c5303",
   "metadata": {},
   "outputs": [
    {
     "data": {
      "text/html": [
       "<div>\n",
       "<style scoped>\n",
       "    .dataframe tbody tr th:only-of-type {\n",
       "        vertical-align: middle;\n",
       "    }\n",
       "\n",
       "    .dataframe tbody tr th {\n",
       "        vertical-align: top;\n",
       "    }\n",
       "\n",
       "    .dataframe thead th {\n",
       "        text-align: right;\n",
       "    }\n",
       "</style>\n",
       "<table border=\"1\" class=\"dataframe\">\n",
       "  <thead>\n",
       "    <tr style=\"text-align: right;\">\n",
       "      <th></th>\n",
       "      <th>popularity</th>\n",
       "      <th>acousticness</th>\n",
       "      <th>danceability</th>\n",
       "      <th>duration_ms</th>\n",
       "      <th>energy</th>\n",
       "      <th>instrumentalness</th>\n",
       "      <th>liveness</th>\n",
       "      <th>loudness</th>\n",
       "      <th>mode</th>\n",
       "      <th>speechiness</th>\n",
       "      <th>tempo</th>\n",
       "      <th>valence</th>\n",
       "      <th>music_genre</th>\n",
       "    </tr>\n",
       "  </thead>\n",
       "  <tbody>\n",
       "    <tr>\n",
       "      <th>11420</th>\n",
       "      <td>-0.721949</td>\n",
       "      <td>1.870931</td>\n",
       "      <td>-0.824278</td>\n",
       "      <td>0.772030</td>\n",
       "      <td>-1.533716</td>\n",
       "      <td>2.170826</td>\n",
       "      <td>-0.265390</td>\n",
       "      <td>-1.551736</td>\n",
       "      <td>-1.339082</td>\n",
       "      <td>-0.617393</td>\n",
       "      <td>0.280548</td>\n",
       "      <td>-1.467182</td>\n",
       "      <td>2</td>\n",
       "    </tr>\n",
       "    <tr>\n",
       "      <th>13693</th>\n",
       "      <td>-0.464579</td>\n",
       "      <td>0.344579</td>\n",
       "      <td>0.407317</td>\n",
       "      <td>1.656085</td>\n",
       "      <td>-1.280462</td>\n",
       "      <td>-0.557872</td>\n",
       "      <td>-0.061227</td>\n",
       "      <td>-0.300870</td>\n",
       "      <td>-1.339082</td>\n",
       "      <td>-0.504936</td>\n",
       "      <td>-1.290711</td>\n",
       "      <td>0.500718</td>\n",
       "      <td>2</td>\n",
       "    </tr>\n",
       "    <tr>\n",
       "      <th>14068</th>\n",
       "      <td>-0.014182</td>\n",
       "      <td>-0.897463</td>\n",
       "      <td>-0.169294</td>\n",
       "      <td>0.557634</td>\n",
       "      <td>1.422173</td>\n",
       "      <td>-0.303623</td>\n",
       "      <td>-0.615561</td>\n",
       "      <td>0.645271</td>\n",
       "      <td>0.746780</td>\n",
       "      <td>-0.013677</td>\n",
       "      <td>0.449075</td>\n",
       "      <td>-0.863013</td>\n",
       "      <td>2</td>\n",
       "    </tr>\n",
       "    <tr>\n",
       "      <th>19611</th>\n",
       "      <td>0.371872</td>\n",
       "      <td>-0.895253</td>\n",
       "      <td>-0.006947</td>\n",
       "      <td>-0.087068</td>\n",
       "      <td>1.433512</td>\n",
       "      <td>-0.373689</td>\n",
       "      <td>-1.024506</td>\n",
       "      <td>0.721047</td>\n",
       "      <td>-1.339082</td>\n",
       "      <td>0.191507</td>\n",
       "      <td>0.552289</td>\n",
       "      <td>-0.919666</td>\n",
       "      <td>3</td>\n",
       "    </tr>\n",
       "    <tr>\n",
       "      <th>3109</th>\n",
       "      <td>-0.400237</td>\n",
       "      <td>-0.543108</td>\n",
       "      <td>-0.684324</td>\n",
       "      <td>2.108700</td>\n",
       "      <td>-0.293906</td>\n",
       "      <td>2.373649</td>\n",
       "      <td>1.522584</td>\n",
       "      <td>-0.450474</td>\n",
       "      <td>-1.339082</td>\n",
       "      <td>-0.599637</td>\n",
       "      <td>1.463713</td>\n",
       "      <td>0.108190</td>\n",
       "      <td>0</td>\n",
       "    </tr>\n",
       "  </tbody>\n",
       "</table>\n",
       "</div>"
      ],
      "text/plain": [
       "       popularity  acousticness  danceability  duration_ms    energy  \\\n",
       "11420   -0.721949      1.870931     -0.824278     0.772030 -1.533716   \n",
       "13693   -0.464579      0.344579      0.407317     1.656085 -1.280462   \n",
       "14068   -0.014182     -0.897463     -0.169294     0.557634  1.422173   \n",
       "19611    0.371872     -0.895253     -0.006947    -0.087068  1.433512   \n",
       "3109    -0.400237     -0.543108     -0.684324     2.108700 -0.293906   \n",
       "\n",
       "       instrumentalness  liveness  loudness      mode  speechiness     tempo  \\\n",
       "11420          2.170826 -0.265390 -1.551736 -1.339082    -0.617393  0.280548   \n",
       "13693         -0.557872 -0.061227 -0.300870 -1.339082    -0.504936 -1.290711   \n",
       "14068         -0.303623 -0.615561  0.645271  0.746780    -0.013677  0.449075   \n",
       "19611         -0.373689 -1.024506  0.721047 -1.339082     0.191507  0.552289   \n",
       "3109           2.373649  1.522584 -0.450474 -1.339082    -0.599637  1.463713   \n",
       "\n",
       "        valence  music_genre  \n",
       "11420 -1.467182            2  \n",
       "13693  0.500718            2  \n",
       "14068 -0.863013            2  \n",
       "19611 -0.919666            3  \n",
       "3109   0.108190            0  "
      ]
     },
     "execution_count": 31,
     "metadata": {},
     "output_type": "execute_result"
    }
   ],
   "source": [
    "df.sample(5)"
   ]
  },
  {
   "cell_type": "markdown",
   "id": "c6278bc2",
   "metadata": {},
   "source": [
    "## Prediction"
   ]
  },
  {
   "cell_type": "markdown",
   "id": "7973bea5",
   "metadata": {},
   "source": [
    "The following algorithms will be used:\n",
    "- Naive Bayes\n",
    "- KNN\n",
    "- Decision Tree\n",
    "- Logistic Regression"
   ]
  },
  {
   "cell_type": "code",
   "execution_count": 49,
   "id": "47c2ca64",
   "metadata": {},
   "outputs": [
    {
     "data": {
      "text/html": [
       "<div>\n",
       "<style scoped>\n",
       "    .dataframe tbody tr th:only-of-type {\n",
       "        vertical-align: middle;\n",
       "    }\n",
       "\n",
       "    .dataframe tbody tr th {\n",
       "        vertical-align: top;\n",
       "    }\n",
       "\n",
       "    .dataframe thead th {\n",
       "        text-align: right;\n",
       "    }\n",
       "</style>\n",
       "<table border=\"1\" class=\"dataframe\">\n",
       "  <thead>\n",
       "    <tr style=\"text-align: right;\">\n",
       "      <th></th>\n",
       "      <th>KNN</th>\n",
       "      <th>LogReg</th>\n",
       "      <th>DTree</th>\n",
       "      <th>NBayes</th>\n",
       "    </tr>\n",
       "  </thead>\n",
       "  <tbody>\n",
       "    <tr>\n",
       "      <th>part1</th>\n",
       "      <td>0.0</td>\n",
       "      <td>0.0</td>\n",
       "      <td>0.0</td>\n",
       "      <td>0.0</td>\n",
       "    </tr>\n",
       "    <tr>\n",
       "      <th>part2</th>\n",
       "      <td>0.0</td>\n",
       "      <td>0.0</td>\n",
       "      <td>0.0</td>\n",
       "      <td>0.0</td>\n",
       "    </tr>\n",
       "    <tr>\n",
       "      <th>part3</th>\n",
       "      <td>0.0</td>\n",
       "      <td>0.0</td>\n",
       "      <td>0.0</td>\n",
       "      <td>0.0</td>\n",
       "    </tr>\n",
       "  </tbody>\n",
       "</table>\n",
       "</div>"
      ],
      "text/plain": [
       "       KNN  LogReg  DTree  NBayes\n",
       "part1  0.0     0.0    0.0     0.0\n",
       "part2  0.0     0.0    0.0     0.0\n",
       "part3  0.0     0.0    0.0     0.0"
      ]
     },
     "execution_count": 49,
     "metadata": {},
     "output_type": "execute_result"
    }
   ],
   "source": [
    "df_scores = pd.DataFrame(data=np.zeros((3,4)), columns=['KNN', 'LogReg', 'DTree', 'NBayes'], index=['part1', 'part2', 'part3'])\n",
    "df_scores"
   ]
  },
  {
   "cell_type": "markdown",
   "id": "f1509fed",
   "metadata": {},
   "source": [
    "### 1. Split data into training and testing sets"
   ]
  },
  {
   "cell_type": "code",
   "execution_count": 35,
   "id": "c8954121",
   "metadata": {},
   "outputs": [],
   "source": [
    "X = df[numerical_attributes]\n",
    "Y = df['music_genre']\n",
    "test_size = 0.2\n",
    "seed = 7\n",
    "X_train, X_test, Y_train, Y_test = train_test_split(X, Y, test_size=test_size, random_state=seed)"
   ]
  },
  {
   "cell_type": "code",
   "execution_count": 36,
   "id": "4473686f",
   "metadata": {},
   "outputs": [],
   "source": [
    "scoring = 'accuracy'"
   ]
  },
  {
   "cell_type": "markdown",
   "id": "9f537bef",
   "metadata": {},
   "source": [
    "### 2. Spot Check Algorithm"
   ]
  },
  {
   "cell_type": "code",
   "execution_count": 37,
   "id": "4cdfd15f",
   "metadata": {},
   "outputs": [],
   "source": [
    "models = []\n",
    "models.append(('KNN', KNeighborsClassifier()))\n",
    "models.append(('DTC', DecisionTreeClassifier()))\n",
    "models.append(('NB', GaussianNB()))\n",
    "models.append(('LR', LogisticRegression(solver = 'liblinear', multi_class='ovr')))"
   ]
  },
  {
   "cell_type": "markdown",
   "id": "6a3ff0cc",
   "metadata": {},
   "source": [
    "### 3. Evaluate each model in turn using K-cross validation"
   ]
  },
  {
   "cell_type": "code",
   "execution_count": 38,
   "id": "a6b11651",
   "metadata": {},
   "outputs": [
    {
     "name": "stdout",
     "output_type": "stream",
     "text": [
      "KNN: 0.486125 (0.005745)\n",
      "DTC: 0.440525 (0.008899)\n",
      "NB: 0.435875 (0.008951)\n",
      "LR: 0.508275 (0.006227)\n"
     ]
    }
   ],
   "source": [
    "results = []\n",
    "names = []\n",
    "for name, model in models:\n",
    "    kfold = KFold(n_splits=10)\n",
    "    cv_results = cross_val_score(model, X_train, Y_train, cv=kfold, scoring=scoring)\n",
    "    results.append(cv_results)\n",
    "    names.append(name)\n",
    "    msg = \"%s: %f (%f)\" % (name, cv_results.mean(), cv_results.std())\n",
    "    print(msg)"
   ]
  },
  {
   "cell_type": "markdown",
   "id": "3e9d29dd",
   "metadata": {},
   "source": [
    "Target classes:\n",
    "- 'Electronic': 0, \n",
    "- 'Anime': 1, \n",
    "- 'Jazz': 2, \n",
    "- 'Alternative': 3, \n",
    "- 'Country': 4, \n",
    "- 'Rap': 5, \n",
    "- 'Blues': 6, \n",
    "- 'Rock': 7, \n",
    "- 'Classical': 8, \n",
    "- 'Hip-Hop': 9"
   ]
  },
  {
   "cell_type": "code",
   "execution_count": 39,
   "id": "6da73c5d",
   "metadata": {},
   "outputs": [],
   "source": [
    "target_names = list(data['music_genre'].unique())"
   ]
  },
  {
   "cell_type": "markdown",
   "id": "adaac8a9",
   "metadata": {},
   "source": [
    "## KNN Prediction"
   ]
  },
  {
   "cell_type": "code",
   "execution_count": 40,
   "id": "03a7f54f",
   "metadata": {},
   "outputs": [
    {
     "data": {
      "image/png": "[encoded data removed]",
      "text/plain": [
       "<Figure size 432x288 with 1 Axes>"
      ]
     },
     "metadata": {
      "needs_background": "light"
     },
     "output_type": "display_data"
    }
   ],
   "source": [
    "accuracies = {}\n",
    "for neighbor in range(3, 14):\n",
    "    knn = KNeighborsClassifier(n_neighbors=neighbor, weights='uniform')\n",
    "    knn.fit(X_train, Y_train)\n",
    "    predictions = knn.predict(X_test)\n",
    "    accuracies[neighbor] = (accuracy_score(Y_test, predictions))\n",
    "plt.bar(accuracies.keys(), accuracies.values())\n",
    "plt.show()"
   ]
  },
  {
   "cell_type": "code",
   "execution_count": 50,
   "id": "1d5d40a7",
   "metadata": {},
   "outputs": [
    {
     "name": "stdout",
     "output_type": "stream",
     "text": [
      "Best score for KNN = 52.34%, n_neighbors=12\n"
     ]
    }
   ],
   "source": [
    "max_key = max(accuracies, key=accuracies.get)\n",
    "print(f\"Best score for KNN = {accuracies[max_key]*100:.2f}%, n_neighbors={max_key}\")\n",
    "df_scores.loc['part1', 'KNN'] = accuracies[max_key]*100"
   ]
  },
  {
   "cell_type": "markdown",
   "id": "8a52839e",
   "metadata": {},
   "source": [
    "## Logistic Regression Prediction"
   ]
  },
  {
   "cell_type": "code",
   "execution_count": 52,
   "id": "9be6a7d4",
   "metadata": {},
   "outputs": [],
   "source": [
    "from sklearn.model_selection import ParameterGrid\n",
    "grid={'solver' : ['newton-cg', 'lbfgs', 'liblinear', 'sag', 'saga'], 'penalty' : ['l2']}"
   ]
  },
  {
   "cell_type": "code",
   "execution_count": 53,
   "id": "c4cb00ba",
   "metadata": {
    "collapsed": true
   },
   "outputs": [
    {
     "name": "stderr",
     "output_type": "stream",
     "text": [
      "C:\\Users\\Filip KOSELSKI\\anaconda3\\lib\\site-packages\\sklearn\\linear_model\\_sag.py:328: ConvergenceWarning: The max_iter was reached which means the coef_ did not converge\n",
      "  warnings.warn(\"The max_iter was reached which means \"\n",
      "C:\\Users\\Filip KOSELSKI\\anaconda3\\lib\\site-packages\\sklearn\\linear_model\\_sag.py:328: ConvergenceWarning: The max_iter was reached which means the coef_ did not converge\n",
      "  warnings.warn(\"The max_iter was reached which means \"\n"
     ]
    }
   ],
   "source": [
    "lr = LogisticRegression()\n",
    "accuracies = []\n",
    "for g in ParameterGrid(grid):\n",
    "    lr.set_params(**g)\n",
    "    lr.fit(X_train,Y_train)\n",
    "    predictions = lr.predict(X_test)\n",
    "    accuracies.append(accuracy_score(Y_test, predictions))"
   ]
  },
  {
   "cell_type": "code",
   "execution_count": 54,
   "id": "a1b87b2c",
   "metadata": {},
   "outputs": [
    {
     "name": "stdout",
     "output_type": "stream",
     "text": [
      "Best score for Logistic Regression = 52.82% {'solver': 'newton-cg', 'penalty': 'l2'}\n"
     ]
    }
   ],
   "source": [
    "best_idx = np.argmax(accuracies)\n",
    "print(f'Best score for Logistic Regression = {accuracies[best_idx]*100:.2f}%', ParameterGrid(grid)[best_idx])\n",
    "df_scores.loc['part1', 'LogReg'] = accuracies[best_idx]*100"
   ]
  },
  {
   "cell_type": "markdown",
   "id": "8699cbf2",
   "metadata": {},
   "source": [
    "## Decision Tree Prediction"
   ]
  },
  {
   "cell_type": "code",
   "execution_count": 55,
   "id": "98088516",
   "metadata": {},
   "outputs": [],
   "source": [
    "grid={'max_depth' : list(range(5,16)), 'criterion' : ['entropy'], 'class_weight' : ['balanced', None], 'max_features' : ['auto', 'sqrt', 'log2', None, 3, 4, 5]}"
   ]
  },
  {
   "cell_type": "code",
   "execution_count": 56,
   "id": "cdc8204d",
   "metadata": {},
   "outputs": [],
   "source": [
    "dtc = DecisionTreeClassifier()\n",
    "accuracies = []\n",
    "for g in ParameterGrid(grid):\n",
    "    dtc.set_params(**g) \n",
    "    dtc.fit(X_train,Y_train)\n",
    "    predictions = dtc.predict(X_test)\n",
    "    accuracies.append(accuracy_score(Y_test, predictions))"
   ]
  },
  {
   "cell_type": "code",
   "execution_count": 57,
   "id": "8912e983",
   "metadata": {},
   "outputs": [
    {
     "name": "stdout",
     "output_type": "stream",
     "text": [
      "Best score for Decision Tree Classifier = 53.36% {'max_features': None, 'max_depth': 10, 'criterion': 'entropy', 'class_weight': None}\n"
     ]
    }
   ],
   "source": [
    "best_idx = np.argmax(accuracies)\n",
    "print(f'Best score for Decision Tree Classifier = {accuracies[best_idx]*100:.2f}%', ParameterGrid(grid)[best_idx])\n",
    "df_scores.loc['part1', 'DTree'] = accuracies[best_idx]*100"
   ]
  },
  {
   "cell_type": "markdown",
   "id": "b8710d14",
   "metadata": {},
   "source": [
    "## Naive Bayes Prediction"
   ]
  },
  {
   "cell_type": "code",
   "execution_count": 58,
   "id": "ccf1b91e",
   "metadata": {},
   "outputs": [],
   "source": [
    "grid = {'var_smoothing': np.logspace(0,-12, num=13)}"
   ]
  },
  {
   "cell_type": "code",
   "execution_count": 59,
   "id": "43987094",
   "metadata": {},
   "outputs": [],
   "source": [
    "nb = GaussianNB()\n",
    "accuracies = []\n",
    "for g in ParameterGrid(grid):\n",
    "    nb.set_params(**g) \n",
    "    nb.fit(X_train,Y_train)\n",
    "    predictions = nb.predict(X_test)\n",
    "    accuracies.append(accuracy_score(Y_test, predictions))"
   ]
  },
  {
   "cell_type": "code",
   "execution_count": 60,
   "id": "7efd2e3e",
   "metadata": {},
   "outputs": [
    {
     "name": "stdout",
     "output_type": "stream",
     "text": [
      "Best score for Naive Bayes = 44.31% {'var_smoothing': 0.1}\n"
     ]
    }
   ],
   "source": [
    "best_idx = np.argmax(accuracies)\n",
    "print(f'Best score for Naive Bayes = {accuracies[best_idx]*100:.2f}%', ParameterGrid(grid)[best_idx])\n",
    "df_scores.loc['part1', 'NBayes'] = accuracies[best_idx]*100"
   ]
  },
  {
   "cell_type": "markdown",
   "id": "31497a30",
   "metadata": {},
   "source": [
    "## Classification_report for best performance - Decision Tree Classifier"
   ]
  },
  {
   "cell_type": "code",
   "execution_count": 62,
   "id": "dfcc42f8",
   "metadata": {},
   "outputs": [
    {
     "name": "stdout",
     "output_type": "stream",
     "text": [
      "              precision    recall  f1-score   support\n",
      "\n",
      "  Electronic       0.57      0.53      0.55       966\n",
      "       Anime       0.71      0.71      0.71       986\n",
      "        Jazz       0.47      0.48      0.48       993\n",
      " Alternative       0.40      0.32      0.36      1030\n",
      "     Country       0.51      0.52      0.52       991\n",
      "         Rap       0.41      0.54      0.47       951\n",
      "       Blues       0.55      0.45      0.50      1074\n",
      "        Rock       0.47      0.71      0.57       974\n",
      "   Classical       0.83      0.79      0.81      1007\n",
      "     Hip-Hop       0.42      0.31      0.36      1028\n",
      "\n",
      "    accuracy                           0.53     10000\n",
      "   macro avg       0.54      0.54      0.53     10000\n",
      "weighted avg       0.54      0.53      0.53     10000\n",
      "\n"
     ]
    }
   ],
   "source": [
    "dtc = DecisionTreeClassifier(max_features=None, max_depth=10, criterion='entropy', class_weight= None)\n",
    "dtc.fit(X_train, Y_train)\n",
    "predictions = dtc.predict(X_test)\n",
    "print(classification_report(Y_test, predictions, target_names=target_names))"
   ]
  },
  {
   "cell_type": "markdown",
   "id": "340afb1a",
   "metadata": {},
   "source": [
    "Conclusions:\n",
    " - according to previous conclusions Classical genre has the best scores of precision. recall and f1-score\n",
    " - the second highest score has Anime genre (perhaps because it's not typical)\n",
    " - Rap and Hip-Hop have one of the worst scores"
   ]
  },
  {
   "cell_type": "markdown",
   "id": "632245fb",
   "metadata": {},
   "source": [
    "# Part 2: Modification - adding track_name sentiment intensity analysis"
   ]
  },
  {
   "cell_type": "markdown",
   "id": "2c4f81b4",
   "metadata": {},
   "source": [
    "I decided to use only track_name sentiment intensity analysis because a lot of instances have unknown artist (marked as empty_field) and a lot of instances of this attribute were just first name and last name of artist."
   ]
  },
  {
   "cell_type": "markdown",
   "id": "955a3897",
   "metadata": {},
   "source": [
    "Example of working SentimentIntensityAnalyzer"
   ]
  },
  {
   "cell_type": "code",
   "execution_count": 63,
   "id": "dcfe3c53",
   "metadata": {},
   "outputs": [],
   "source": [
    "sentences = list(data.sample(5)['track_name'])"
   ]
  },
  {
   "cell_type": "code",
   "execution_count": 64,
   "id": "80d2bf7b",
   "metadata": {},
   "outputs": [],
   "source": [
    "from nltk.sentiment.vader import SentimentIntensityAnalyzer"
   ]
  },
  {
   "cell_type": "code",
   "execution_count": 65,
   "id": "4d5232d9",
   "metadata": {},
   "outputs": [
    {
     "name": "stdout",
     "output_type": "stream",
     "text": [
      "La flaca\n",
      "compound: 0.0, neg: 0.0, neu: 1.0, pos: 0.0, \n",
      "Blue As The Turquoise Night of Neyshabur - Edited Version\n",
      "compound: 0.0, neg: 0.0, neu: 1.0, pos: 0.0, \n",
      "Someday\n",
      "compound: 0.0, neg: 0.0, neu: 1.0, pos: 0.0, \n",
      "Twenty-Somethings\n",
      "compound: 0.0, neg: 0.0, neu: 1.0, pos: 0.0, \n",
      "Creole Moon\n",
      "compound: 0.0, neg: 0.0, neu: 1.0, pos: 0.0, \n"
     ]
    }
   ],
   "source": [
    "sid = SentimentIntensityAnalyzer()\n",
    "for sentence in sentences:\n",
    "  print(sentence)\n",
    "  ss = sid.polarity_scores(sentence)\n",
    "  for k in sorted(ss):\n",
    "    print('{0}: {1}, '.format(k, ss[k]), end='')\n",
    "  print()"
   ]
  },
  {
   "cell_type": "markdown",
   "id": "3b1786f3",
   "metadata": {},
   "source": [
    "## Data preparation"
   ]
  },
  {
   "cell_type": "code",
   "execution_count": 66,
   "id": "d1f1a951",
   "metadata": {},
   "outputs": [],
   "source": [
    "numerical_attributes = ['popularity', 'acousticness', 'danceability', 'duration_ms', \n",
    "                          'energy', 'instrumentalness', 'liveness', 'loudness', 'mode', \n",
    "                          'speechiness', 'tempo', 'valence']"
   ]
  },
  {
   "cell_type": "code",
   "execution_count": 67,
   "id": "4a7ffe1d",
   "metadata": {},
   "outputs": [],
   "source": [
    "df2 = data.copy()\n",
    "df2 = data[['track_name'] + numerical_attributes + ['music_genre']]"
   ]
  },
  {
   "cell_type": "code",
   "execution_count": 68,
   "id": "f2db717b",
   "metadata": {},
   "outputs": [
    {
     "data": {
      "text/html": [
       "<div>\n",
       "<style scoped>\n",
       "    .dataframe tbody tr th:only-of-type {\n",
       "        vertical-align: middle;\n",
       "    }\n",
       "\n",
       "    .dataframe tbody tr th {\n",
       "        vertical-align: top;\n",
       "    }\n",
       "\n",
       "    .dataframe thead th {\n",
       "        text-align: right;\n",
       "    }\n",
       "</style>\n",
       "<table border=\"1\" class=\"dataframe\">\n",
       "  <thead>\n",
       "    <tr style=\"text-align: right;\">\n",
       "      <th></th>\n",
       "      <th>track_name</th>\n",
       "      <th>popularity</th>\n",
       "      <th>acousticness</th>\n",
       "      <th>danceability</th>\n",
       "      <th>duration_ms</th>\n",
       "      <th>energy</th>\n",
       "      <th>instrumentalness</th>\n",
       "      <th>liveness</th>\n",
       "      <th>loudness</th>\n",
       "      <th>mode</th>\n",
       "      <th>speechiness</th>\n",
       "      <th>tempo</th>\n",
       "      <th>valence</th>\n",
       "      <th>music_genre</th>\n",
       "    </tr>\n",
       "  </thead>\n",
       "  <tbody>\n",
       "    <tr>\n",
       "      <th>23657</th>\n",
       "      <td>Gateway Love</td>\n",
       "      <td>52.0</td>\n",
       "      <td>0.0704</td>\n",
       "      <td>0.685</td>\n",
       "      <td>206507.000000</td>\n",
       "      <td>0.595</td>\n",
       "      <td>0.000004</td>\n",
       "      <td>0.0753</td>\n",
       "      <td>-7.083</td>\n",
       "      <td>1</td>\n",
       "      <td>0.0453</td>\n",
       "      <td>91.010000</td>\n",
       "      <td>0.596</td>\n",
       "      <td>Country</td>\n",
       "    </tr>\n",
       "    <tr>\n",
       "      <th>33741</th>\n",
       "      <td>Don't Know What It Means</td>\n",
       "      <td>39.0</td>\n",
       "      <td>0.4330</td>\n",
       "      <td>0.646</td>\n",
       "      <td>358253.000000</td>\n",
       "      <td>0.622</td>\n",
       "      <td>0.014300</td>\n",
       "      <td>0.3650</td>\n",
       "      <td>-9.203</td>\n",
       "      <td>0</td>\n",
       "      <td>0.0348</td>\n",
       "      <td>91.926000</td>\n",
       "      <td>0.806</td>\n",
       "      <td>Blues</td>\n",
       "    </tr>\n",
       "    <tr>\n",
       "      <th>6598</th>\n",
       "      <td>Goku's Spirit Bomb</td>\n",
       "      <td>22.0</td>\n",
       "      <td>0.0124</td>\n",
       "      <td>0.290</td>\n",
       "      <td>245503.541466</td>\n",
       "      <td>0.311</td>\n",
       "      <td>0.694000</td>\n",
       "      <td>0.7210</td>\n",
       "      <td>-13.476</td>\n",
       "      <td>0</td>\n",
       "      <td>0.0332</td>\n",
       "      <td>119.952961</td>\n",
       "      <td>0.050</td>\n",
       "      <td>Anime</td>\n",
       "    </tr>\n",
       "    <tr>\n",
       "      <th>21844</th>\n",
       "      <td>Turn! Turn! Turn! (To Everything There Is a Se...</td>\n",
       "      <td>69.0</td>\n",
       "      <td>0.1350</td>\n",
       "      <td>0.452</td>\n",
       "      <td>229360.000000</td>\n",
       "      <td>0.818</td>\n",
       "      <td>0.000027</td>\n",
       "      <td>0.0520</td>\n",
       "      <td>-8.124</td>\n",
       "      <td>1</td>\n",
       "      <td>0.0439</td>\n",
       "      <td>119.952961</td>\n",
       "      <td>0.755</td>\n",
       "      <td>Country</td>\n",
       "    </tr>\n",
       "    <tr>\n",
       "      <th>19115</th>\n",
       "      <td>Flyin' High (feat. Zac Brown)</td>\n",
       "      <td>41.0</td>\n",
       "      <td>0.1460</td>\n",
       "      <td>0.517</td>\n",
       "      <td>242880.000000</td>\n",
       "      <td>0.771</td>\n",
       "      <td>0.000002</td>\n",
       "      <td>0.1110</td>\n",
       "      <td>-3.899</td>\n",
       "      <td>1</td>\n",
       "      <td>0.0384</td>\n",
       "      <td>148.780000</td>\n",
       "      <td>0.850</td>\n",
       "      <td>Alternative</td>\n",
       "    </tr>\n",
       "  </tbody>\n",
       "</table>\n",
       "</div>"
      ],
      "text/plain": [
       "                                              track_name  popularity  \\\n",
       "23657                                       Gateway Love        52.0   \n",
       "33741                           Don't Know What It Means        39.0   \n",
       "6598                                  Goku's Spirit Bomb        22.0   \n",
       "21844  Turn! Turn! Turn! (To Everything There Is a Se...        69.0   \n",
       "19115                      Flyin' High (feat. Zac Brown)        41.0   \n",
       "\n",
       "       acousticness  danceability    duration_ms  energy  instrumentalness  \\\n",
       "23657        0.0704         0.685  206507.000000   0.595          0.000004   \n",
       "33741        0.4330         0.646  358253.000000   0.622          0.014300   \n",
       "6598         0.0124         0.290  245503.541466   0.311          0.694000   \n",
       "21844        0.1350         0.452  229360.000000   0.818          0.000027   \n",
       "19115        0.1460         0.517  242880.000000   0.771          0.000002   \n",
       "\n",
       "       liveness  loudness  mode  speechiness       tempo  valence  music_genre  \n",
       "23657    0.0753    -7.083     1       0.0453   91.010000    0.596      Country  \n",
       "33741    0.3650    -9.203     0       0.0348   91.926000    0.806        Blues  \n",
       "6598     0.7210   -13.476     0       0.0332  119.952961    0.050        Anime  \n",
       "21844    0.0520    -8.124     1       0.0439  119.952961    0.755      Country  \n",
       "19115    0.1110    -3.899     1       0.0384  148.780000    0.850  Alternative  "
      ]
     },
     "execution_count": 68,
     "metadata": {},
     "output_type": "execute_result"
    }
   ],
   "source": [
    "df2.sample(5)"
   ]
  },
  {
   "cell_type": "markdown",
   "id": "fd7e29a9",
   "metadata": {},
   "source": [
    "### 1. Adding sentiment analysis features to data"
   ]
  },
  {
   "cell_type": "code",
   "execution_count": 69,
   "id": "17302124",
   "metadata": {},
   "outputs": [
    {
     "name": "stderr",
     "output_type": "stream",
     "text": [
      "C:\\Users\\FILIPK~1\\AppData\\Local\\Temp/ipykernel_3808/3238757124.py:1: SettingWithCopyWarning: \n",
      "A value is trying to be set on a copy of a slice from a DataFrame.\n",
      "Try using .loc[row_indexer,col_indexer] = value instead\n",
      "\n",
      "See the caveats in the documentation: https://pandas.pydata.org/pandas-docs/stable/user_guide/indexing.html#returning-a-view-versus-a-copy\n",
      "  df2['track_name_neg'] = data['track_name'].apply(lambda x: sid.polarity_scores(x)['neg'])\n",
      "C:\\Users\\FILIPK~1\\AppData\\Local\\Temp/ipykernel_3808/3238757124.py:2: SettingWithCopyWarning: \n",
      "A value is trying to be set on a copy of a slice from a DataFrame.\n",
      "Try using .loc[row_indexer,col_indexer] = value instead\n",
      "\n",
      "See the caveats in the documentation: https://pandas.pydata.org/pandas-docs/stable/user_guide/indexing.html#returning-a-view-versus-a-copy\n",
      "  df2['track_name_pos'] = data['track_name'].apply(lambda x: sid.polarity_scores(x)['pos'])\n",
      "C:\\Users\\FILIPK~1\\AppData\\Local\\Temp/ipykernel_3808/3238757124.py:3: SettingWithCopyWarning: \n",
      "A value is trying to be set on a copy of a slice from a DataFrame.\n",
      "Try using .loc[row_indexer,col_indexer] = value instead\n",
      "\n",
      "See the caveats in the documentation: https://pandas.pydata.org/pandas-docs/stable/user_guide/indexing.html#returning-a-view-versus-a-copy\n",
      "  df2['track_name_neu'] = data['track_name'].apply(lambda x: sid.polarity_scores(x)['neu'])\n"
     ]
    }
   ],
   "source": [
    "df2['track_name_neg'] = data['track_name'].apply(lambda x: sid.polarity_scores(x)['neg'])\n",
    "df2['track_name_pos'] = data['track_name'].apply(lambda x: sid.polarity_scores(x)['pos'])\n",
    "df2['track_name_neu'] = data['track_name'].apply(lambda x: sid.polarity_scores(x)['neu'])\n",
    "df2['track_name_compound'] = data['track_name'].apply(lambda x: sid.polarity_scores(x)['compound'])"
   ]
  },
  {
   "cell_type": "code",
   "execution_count": 70,
   "id": "450b611e",
   "metadata": {},
   "outputs": [
    {
     "data": {
      "text/html": [
       "<div>\n",
       "<style scoped>\n",
       "    .dataframe tbody tr th:only-of-type {\n",
       "        vertical-align: middle;\n",
       "    }\n",
       "\n",
       "    .dataframe tbody tr th {\n",
       "        vertical-align: top;\n",
       "    }\n",
       "\n",
       "    .dataframe thead th {\n",
       "        text-align: right;\n",
       "    }\n",
       "</style>\n",
       "<table border=\"1\" class=\"dataframe\">\n",
       "  <thead>\n",
       "    <tr style=\"text-align: right;\">\n",
       "      <th></th>\n",
       "      <th>track_name</th>\n",
       "      <th>popularity</th>\n",
       "      <th>acousticness</th>\n",
       "      <th>danceability</th>\n",
       "      <th>duration_ms</th>\n",
       "      <th>energy</th>\n",
       "      <th>instrumentalness</th>\n",
       "      <th>liveness</th>\n",
       "      <th>loudness</th>\n",
       "      <th>mode</th>\n",
       "      <th>speechiness</th>\n",
       "      <th>tempo</th>\n",
       "      <th>valence</th>\n",
       "      <th>music_genre</th>\n",
       "      <th>track_name_neg</th>\n",
       "      <th>track_name_pos</th>\n",
       "      <th>track_name_neu</th>\n",
       "      <th>track_name_compound</th>\n",
       "    </tr>\n",
       "  </thead>\n",
       "  <tbody>\n",
       "    <tr>\n",
       "      <th>41074</th>\n",
       "      <td>Old Refrain (Kreisler)</td>\n",
       "      <td>50.0</td>\n",
       "      <td>0.94500</td>\n",
       "      <td>0.147</td>\n",
       "      <td>223028.0</td>\n",
       "      <td>0.0916</td>\n",
       "      <td>0.671000</td>\n",
       "      <td>0.0931</td>\n",
       "      <td>-21.506</td>\n",
       "      <td>1</td>\n",
       "      <td>0.0461</td>\n",
       "      <td>159.144</td>\n",
       "      <td>0.0790</td>\n",
       "      <td>Classical</td>\n",
       "      <td>0.0</td>\n",
       "      <td>0.0</td>\n",
       "      <td>1.0</td>\n",
       "      <td>0.0</td>\n",
       "    </tr>\n",
       "    <tr>\n",
       "      <th>11034</th>\n",
       "      <td>Nightfall</td>\n",
       "      <td>36.0</td>\n",
       "      <td>0.48100</td>\n",
       "      <td>0.718</td>\n",
       "      <td>285533.0</td>\n",
       "      <td>0.5480</td>\n",
       "      <td>0.857000</td>\n",
       "      <td>0.0892</td>\n",
       "      <td>-11.204</td>\n",
       "      <td>1</td>\n",
       "      <td>0.0316</td>\n",
       "      <td>109.960</td>\n",
       "      <td>0.6290</td>\n",
       "      <td>Jazz</td>\n",
       "      <td>0.0</td>\n",
       "      <td>0.0</td>\n",
       "      <td>1.0</td>\n",
       "      <td>0.0</td>\n",
       "    </tr>\n",
       "    <tr>\n",
       "      <th>42266</th>\n",
       "      <td>Alhaiya Bilaval</td>\n",
       "      <td>38.0</td>\n",
       "      <td>0.39900</td>\n",
       "      <td>0.291</td>\n",
       "      <td>249040.0</td>\n",
       "      <td>0.3800</td>\n",
       "      <td>0.002920</td>\n",
       "      <td>0.4410</td>\n",
       "      <td>-16.898</td>\n",
       "      <td>1</td>\n",
       "      <td>0.0376</td>\n",
       "      <td>149.819</td>\n",
       "      <td>0.4910</td>\n",
       "      <td>Classical</td>\n",
       "      <td>0.0</td>\n",
       "      <td>0.0</td>\n",
       "      <td>1.0</td>\n",
       "      <td>0.0</td>\n",
       "    </tr>\n",
       "    <tr>\n",
       "      <th>6765</th>\n",
       "      <td>キセキ</td>\n",
       "      <td>57.0</td>\n",
       "      <td>0.09320</td>\n",
       "      <td>0.641</td>\n",
       "      <td>271160.0</td>\n",
       "      <td>0.6180</td>\n",
       "      <td>0.000000</td>\n",
       "      <td>0.1550</td>\n",
       "      <td>-4.269</td>\n",
       "      <td>1</td>\n",
       "      <td>0.0259</td>\n",
       "      <td>90.032</td>\n",
       "      <td>0.3380</td>\n",
       "      <td>Anime</td>\n",
       "      <td>0.0</td>\n",
       "      <td>0.0</td>\n",
       "      <td>1.0</td>\n",
       "      <td>0.0</td>\n",
       "    </tr>\n",
       "    <tr>\n",
       "      <th>37066</th>\n",
       "      <td>We Will Rock You - Movie Mix</td>\n",
       "      <td>62.0</td>\n",
       "      <td>0.11700</td>\n",
       "      <td>0.640</td>\n",
       "      <td>129093.0</td>\n",
       "      <td>0.5930</td>\n",
       "      <td>0.000001</td>\n",
       "      <td>0.7800</td>\n",
       "      <td>-6.240</td>\n",
       "      <td>0</td>\n",
       "      <td>0.1210</td>\n",
       "      <td>81.402</td>\n",
       "      <td>0.4070</td>\n",
       "      <td>Rock</td>\n",
       "      <td>0.0</td>\n",
       "      <td>0.0</td>\n",
       "      <td>1.0</td>\n",
       "      <td>0.0</td>\n",
       "    </tr>\n",
       "    <tr>\n",
       "      <th>43851</th>\n",
       "      <td>Responsories for Maundy Thursday Nocturn 2: I....</td>\n",
       "      <td>30.0</td>\n",
       "      <td>0.99400</td>\n",
       "      <td>0.126</td>\n",
       "      <td>180613.0</td>\n",
       "      <td>0.0722</td>\n",
       "      <td>0.004170</td>\n",
       "      <td>0.1110</td>\n",
       "      <td>-22.114</td>\n",
       "      <td>0</td>\n",
       "      <td>0.0430</td>\n",
       "      <td>79.090</td>\n",
       "      <td>0.0384</td>\n",
       "      <td>Classical</td>\n",
       "      <td>0.0</td>\n",
       "      <td>0.0</td>\n",
       "      <td>1.0</td>\n",
       "      <td>0.0</td>\n",
       "    </tr>\n",
       "    <tr>\n",
       "      <th>48385</th>\n",
       "      <td>Big Bag</td>\n",
       "      <td>55.0</td>\n",
       "      <td>0.00608</td>\n",
       "      <td>0.675</td>\n",
       "      <td>85413.0</td>\n",
       "      <td>0.5590</td>\n",
       "      <td>0.000097</td>\n",
       "      <td>0.0843</td>\n",
       "      <td>-9.003</td>\n",
       "      <td>0</td>\n",
       "      <td>0.1060</td>\n",
       "      <td>117.845</td>\n",
       "      <td>0.6680</td>\n",
       "      <td>Hip-Hop</td>\n",
       "      <td>0.0</td>\n",
       "      <td>0.0</td>\n",
       "      <td>1.0</td>\n",
       "      <td>0.0</td>\n",
       "    </tr>\n",
       "  </tbody>\n",
       "</table>\n",
       "</div>"
      ],
      "text/plain": [
       "                                              track_name  popularity  \\\n",
       "41074                             Old Refrain (Kreisler)        50.0   \n",
       "11034                                          Nightfall        36.0   \n",
       "42266                                    Alhaiya Bilaval        38.0   \n",
       "6765                                                 キセキ        57.0   \n",
       "37066                       We Will Rock You - Movie Mix        62.0   \n",
       "43851  Responsories for Maundy Thursday Nocturn 2: I....        30.0   \n",
       "48385                                            Big Bag        55.0   \n",
       "\n",
       "       acousticness  danceability  duration_ms  energy  instrumentalness  \\\n",
       "41074       0.94500         0.147     223028.0  0.0916          0.671000   \n",
       "11034       0.48100         0.718     285533.0  0.5480          0.857000   \n",
       "42266       0.39900         0.291     249040.0  0.3800          0.002920   \n",
       "6765        0.09320         0.641     271160.0  0.6180          0.000000   \n",
       "37066       0.11700         0.640     129093.0  0.5930          0.000001   \n",
       "43851       0.99400         0.126     180613.0  0.0722          0.004170   \n",
       "48385       0.00608         0.675      85413.0  0.5590          0.000097   \n",
       "\n",
       "       liveness  loudness  mode  speechiness    tempo  valence music_genre  \\\n",
       "41074    0.0931   -21.506     1       0.0461  159.144   0.0790   Classical   \n",
       "11034    0.0892   -11.204     1       0.0316  109.960   0.6290        Jazz   \n",
       "42266    0.4410   -16.898     1       0.0376  149.819   0.4910   Classical   \n",
       "6765     0.1550    -4.269     1       0.0259   90.032   0.3380       Anime   \n",
       "37066    0.7800    -6.240     0       0.1210   81.402   0.4070        Rock   \n",
       "43851    0.1110   -22.114     0       0.0430   79.090   0.0384   Classical   \n",
       "48385    0.0843    -9.003     0       0.1060  117.845   0.6680     Hip-Hop   \n",
       "\n",
       "       track_name_neg  track_name_pos  track_name_neu  track_name_compound  \n",
       "41074             0.0             0.0             1.0                  0.0  \n",
       "11034             0.0             0.0             1.0                  0.0  \n",
       "42266             0.0             0.0             1.0                  0.0  \n",
       "6765              0.0             0.0             1.0                  0.0  \n",
       "37066             0.0             0.0             1.0                  0.0  \n",
       "43851             0.0             0.0             1.0                  0.0  \n",
       "48385             0.0             0.0             1.0                  0.0  "
      ]
     },
     "execution_count": 70,
     "metadata": {},
     "output_type": "execute_result"
    }
   ],
   "source": [
    "df2.sample(7)"
   ]
  },
  {
   "cell_type": "code",
   "execution_count": 71,
   "id": "297394be",
   "metadata": {},
   "outputs": [],
   "source": [
    "numerical_attributes += ['track_name_compound', 'track_name_neg', 'track_name_pos', 'track_name_neu']"
   ]
  },
  {
   "cell_type": "code",
   "execution_count": 72,
   "id": "8031fffe",
   "metadata": {},
   "outputs": [
    {
     "data": {
      "text/plain": [
       "['popularity',\n",
       " 'acousticness',\n",
       " 'danceability',\n",
       " 'duration_ms',\n",
       " 'energy',\n",
       " 'instrumentalness',\n",
       " 'liveness',\n",
       " 'loudness',\n",
       " 'mode',\n",
       " 'speechiness',\n",
       " 'tempo',\n",
       " 'valence',\n",
       " 'track_name_compound',\n",
       " 'track_name_neg',\n",
       " 'track_name_pos',\n",
       " 'track_name_neu']"
      ]
     },
     "execution_count": 72,
     "metadata": {},
     "output_type": "execute_result"
    }
   ],
   "source": [
    "numerical_attributes"
   ]
  },
  {
   "cell_type": "markdown",
   "id": "f34ef88e",
   "metadata": {},
   "source": [
    "### 2. Comparison: mean values of attributes for each target."
   ]
  },
  {
   "cell_type": "code",
   "execution_count": 73,
   "id": "6b59ea06",
   "metadata": {},
   "outputs": [
    {
     "name": "stdout",
     "output_type": "stream",
     "text": [
      "POPULARITY\n",
      "music_genre\n",
      "Rap            60.4974\n",
      "Rock           59.6412\n",
      "Hip-Hop        58.3996\n",
      "Alternative    50.2242\n",
      "Country        46.0100\n",
      "Jazz           40.9286\n",
      "Electronic     38.1118\n",
      "Blues          34.8040\n",
      "Classical      29.3158\n",
      "Anime          24.2716\n",
      "Name: popularity, dtype: float64 \n",
      "\n",
      "ACOUSTICNESS\n",
      "music_genre\n",
      "Classical      0.869139\n",
      "Jazz           0.494564\n",
      "Blues          0.317830\n",
      "Anime          0.286968\n",
      "Country        0.268827\n",
      "Rock           0.191394\n",
      "Hip-Hop        0.179093\n",
      "Rap            0.169057\n",
      "Alternative    0.164983\n",
      "Electronic     0.121971\n",
      "Name: acousticness, dtype: float64 \n",
      "\n",
      "DANCEABILITY\n",
      "music_genre\n",
      "Hip-Hop        0.717373\n",
      "Rap            0.696605\n",
      "Electronic     0.619220\n",
      "Jazz           0.584736\n",
      "Country        0.577316\n",
      "Alternative    0.541124\n",
      "Rock           0.539230\n",
      "Blues          0.529243\n",
      "Anime          0.471002\n",
      "Classical      0.306560\n",
      "Name: danceability, dtype: float64 \n",
      "\n",
      "DURATION_MS\n",
      "music_genre\n",
      "Classical      303104.910538\n",
      "Electronic     268269.121906\n",
      "Jazz           262495.598222\n",
      "Blues          253016.834906\n",
      "Rock           237712.473305\n",
      "Alternative    234513.353772\n",
      "Anime          232105.558623\n",
      "Hip-Hop        222455.390864\n",
      "Rap            221648.457046\n",
      "Country        219713.715480\n",
      "Name: duration_ms, dtype: float64 \n",
      "\n",
      "ENERGY\n",
      "music_genre\n",
      "Electronic     0.738636\n",
      "Alternative    0.710880\n",
      "Rock           0.687792\n",
      "Anime          0.664568\n",
      "Rap            0.651301\n",
      "Hip-Hop        0.644334\n",
      "Country        0.638903\n",
      "Blues          0.609753\n",
      "Jazz           0.474847\n",
      "Classical      0.176534\n",
      "Name: energy, dtype: float64 \n",
      "\n",
      "INSTRUMENTALNESS\n",
      "music_genre\n",
      "Classical      0.600692\n",
      "Jazz           0.354271\n",
      "Electronic     0.348139\n",
      "Anime          0.278057\n",
      "Blues          0.094134\n",
      "Alternative    0.060818\n",
      "Rock           0.054656\n",
      "Hip-Hop        0.010836\n",
      "Rap            0.009084\n",
      "Country        0.005320\n",
      "Name: instrumentalness, dtype: float64 \n",
      "\n",
      "LIVENESS\n",
      "music_genre\n",
      "Blues          0.233206\n",
      "Electronic     0.209782\n",
      "Hip-Hop        0.200870\n",
      "Rap            0.198035\n",
      "Alternative    0.197119\n",
      "Anime          0.193444\n",
      "Country        0.187781\n",
      "Rock           0.185961\n",
      "Jazz           0.171721\n",
      "Classical      0.161046\n",
      "Name: liveness, dtype: float64 \n",
      "\n",
      "LOUDNESS\n",
      "music_genre\n",
      "Alternative    -6.517714\n",
      "Rap            -6.668337\n",
      "Hip-Hop        -6.851158\n",
      "Electronic     -7.034238\n",
      "Rock           -7.224354\n",
      "Country        -7.297150\n",
      "Anime          -7.963515\n",
      "Blues          -9.009528\n",
      "Jazz          -11.185364\n",
      "Classical     -21.586253\n",
      "Name: loudness, dtype: float64 \n",
      "\n",
      "MODE\n",
      "music_genre\n",
      "Country        0.8724\n",
      "Rock           0.7396\n",
      "Blues          0.7126\n",
      "Classical      0.6656\n",
      "Alternative    0.6334\n",
      "Anime          0.6202\n",
      "Hip-Hop        0.5554\n",
      "Rap            0.5526\n",
      "Electronic     0.5384\n",
      "Jazz           0.5296\n",
      "Name: mode, dtype: float64 \n",
      "\n",
      "SPEECHINESS\n",
      "music_genre\n",
      "Hip-Hop        0.207044\n",
      "Rap            0.186707\n",
      "Electronic     0.098891\n",
      "Alternative    0.088819\n",
      "Jazz           0.073629\n",
      "Anime          0.064608\n",
      "Blues          0.062157\n",
      "Rock           0.053403\n",
      "Classical      0.051575\n",
      "Country        0.049032\n",
      "Name: speechiness, dtype: float64 \n",
      "\n",
      "TEMPO\n",
      "music_genre\n",
      "Anime          126.111168\n",
      "Electronic     125.292162\n",
      "Country        123.390426\n",
      "Rock           122.431092\n",
      "Alternative    122.285214\n",
      "Blues          121.228699\n",
      "Rap            120.522753\n",
      "Hip-Hop        120.134821\n",
      "Jazz           112.490105\n",
      "Classical      105.643167\n",
      "Name: tempo, dtype: float64 \n",
      "\n",
      "VALENCE\n",
      "music_genre\n",
      "Blues          0.580788\n",
      "Country        0.536732\n",
      "Rock           0.520361\n",
      "Jazz           0.509248\n",
      "Hip-Hop        0.474927\n",
      "Rap            0.454999\n",
      "Alternative    0.447513\n",
      "Anime          0.437670\n",
      "Electronic     0.389884\n",
      "Classical      0.210523\n",
      "Name: valence, dtype: float64 \n",
      "\n",
      "TRACK_NAME_COMPOUND\n",
      "music_genre\n",
      "Jazz           0.054553\n",
      "Country        0.039463\n",
      "Rock           0.030533\n",
      "Blues          0.024551\n",
      "Anime          0.006891\n",
      "Hip-Hop        0.006725\n",
      "Electronic     0.006615\n",
      "Rap           -0.000569\n",
      "Alternative   -0.001534\n",
      "Classical     -0.087219\n",
      "Name: track_name_compound, dtype: float64 \n",
      "\n",
      "TRACK_NAME_NEG\n",
      "music_genre\n",
      "Alternative    0.105779\n",
      "Rap            0.094964\n",
      "Classical      0.087880\n",
      "Rock           0.085720\n",
      "Blues          0.082058\n",
      "Hip-Hop        0.080675\n",
      "Country        0.075518\n",
      "Electronic     0.074420\n",
      "Anime          0.060548\n",
      "Jazz           0.042729\n",
      "Name: track_name_neg, dtype: float64 \n",
      "\n",
      "TRACK_NAME_POS\n",
      "music_genre\n",
      "Rock           0.112139\n",
      "Country        0.109704\n",
      "Blues          0.102118\n",
      "Jazz           0.101601\n",
      "Alternative    0.095215\n",
      "Rap            0.089697\n",
      "Hip-Hop        0.083155\n",
      "Electronic     0.076905\n",
      "Anime          0.064693\n",
      "Classical      0.026772\n",
      "Name: track_name_pos, dtype: float64 \n",
      "\n",
      "TRACK_NAME_NEU\n",
      "music_genre\n",
      "Classical      0.885347\n",
      "Anime          0.869359\n",
      "Jazz           0.855069\n",
      "Electronic     0.847475\n",
      "Hip-Hop        0.834968\n",
      "Blues          0.815623\n",
      "Rap            0.814537\n",
      "Country        0.814379\n",
      "Rock           0.801539\n",
      "Alternative    0.798206\n",
      "Name: track_name_neu, dtype: float64 \n",
      "\n"
     ]
    }
   ],
   "source": [
    "for attribute in numerical_attributes:\n",
    "    print(attribute.upper())\n",
    "    print(df2.groupby(['music_genre'])[attribute].mean().sort_values(ascending=False),'\\n')"
   ]
  },
  {
   "cell_type": "markdown",
   "id": "c76530b0",
   "metadata": {},
   "source": [
    "Conclusions:\n",
    "- we expect insignificant changes after adding sentiment analysis for track_name"
   ]
  },
  {
   "cell_type": "markdown",
   "id": "139492bb",
   "metadata": {},
   "source": [
    "### 3. Data standardization"
   ]
  },
  {
   "cell_type": "code",
   "execution_count": 74,
   "id": "9cf7b799",
   "metadata": {},
   "outputs": [
    {
     "data": {
      "text/html": [
       "<div>\n",
       "<style scoped>\n",
       "    .dataframe tbody tr th:only-of-type {\n",
       "        vertical-align: middle;\n",
       "    }\n",
       "\n",
       "    .dataframe tbody tr th {\n",
       "        vertical-align: top;\n",
       "    }\n",
       "\n",
       "    .dataframe thead th {\n",
       "        text-align: right;\n",
       "    }\n",
       "</style>\n",
       "<table border=\"1\" class=\"dataframe\">\n",
       "  <thead>\n",
       "    <tr style=\"text-align: right;\">\n",
       "      <th></th>\n",
       "      <th>track_name</th>\n",
       "      <th>popularity</th>\n",
       "      <th>acousticness</th>\n",
       "      <th>danceability</th>\n",
       "      <th>duration_ms</th>\n",
       "      <th>energy</th>\n",
       "      <th>instrumentalness</th>\n",
       "      <th>liveness</th>\n",
       "      <th>loudness</th>\n",
       "      <th>mode</th>\n",
       "      <th>speechiness</th>\n",
       "      <th>tempo</th>\n",
       "      <th>valence</th>\n",
       "      <th>music_genre</th>\n",
       "      <th>track_name_neg</th>\n",
       "      <th>track_name_pos</th>\n",
       "      <th>track_name_neu</th>\n",
       "      <th>track_name_compound</th>\n",
       "    </tr>\n",
       "  </thead>\n",
       "  <tbody>\n",
       "    <tr>\n",
       "      <th>0</th>\n",
       "      <td>Röyksopp's Night Out</td>\n",
       "      <td>-1.108003</td>\n",
       "      <td>-0.883886</td>\n",
       "      <td>0.524878</td>\n",
       "      <td>2.751216e-16</td>\n",
       "      <td>1.289876</td>\n",
       "      <td>1.875809</td>\n",
       "      <td>-0.488113</td>\n",
       "      <td>0.638132</td>\n",
       "      <td>-1.339082</td>\n",
       "      <td>-0.185322</td>\n",
       "      <td>-0.655673</td>\n",
       "      <td>1.225073</td>\n",
       "      <td>Electronic</td>\n",
       "      <td>-0.377802</td>\n",
       "      <td>-0.391209</td>\n",
       "      <td>0.573406</td>\n",
       "      <td>-0.033041</td>\n",
       "    </tr>\n",
       "    <tr>\n",
       "      <th>1</th>\n",
       "      <td>The Shining Path</td>\n",
       "      <td>-0.850633</td>\n",
       "      <td>-0.860390</td>\n",
       "      <td>0.356933</td>\n",
       "      <td>-2.572242e-01</td>\n",
       "      <td>1.097101</td>\n",
       "      <td>2.361357</td>\n",
       "      <td>-0.432433</td>\n",
       "      <td>0.339248</td>\n",
       "      <td>-1.339082</td>\n",
       "      <td>-0.627258</td>\n",
       "      <td>-0.170280</td>\n",
       "      <td>0.302431</td>\n",
       "      <td>Electronic</td>\n",
       "      <td>-0.377802</td>\n",
       "      <td>-0.391209</td>\n",
       "      <td>0.573406</td>\n",
       "      <td>-0.033041</td>\n",
       "    </tr>\n",
       "    <tr>\n",
       "      <th>2</th>\n",
       "      <td>Hurricane</td>\n",
       "      <td>-1.043661</td>\n",
       "      <td>-0.888632</td>\n",
       "      <td>0.345737</td>\n",
       "      <td>-2.825585e-01</td>\n",
       "      <td>0.586813</td>\n",
       "      <td>-0.521812</td>\n",
       "      <td>2.104140</td>\n",
       "      <td>0.732892</td>\n",
       "      <td>0.746780</td>\n",
       "      <td>-0.582867</td>\n",
       "      <td>0.276558</td>\n",
       "      <td>-0.498812</td>\n",
       "      <td>Electronic</td>\n",
       "      <td>-0.377802</td>\n",
       "      <td>-0.391209</td>\n",
       "      <td>0.573406</td>\n",
       "      <td>-0.033041</td>\n",
       "    </tr>\n",
       "    <tr>\n",
       "      <th>3</th>\n",
       "      <td>Nitro</td>\n",
       "      <td>-0.657606</td>\n",
       "      <td>-0.823184</td>\n",
       "      <td>1.207853</td>\n",
       "      <td>-7.432841e-01</td>\n",
       "      <td>0.378918</td>\n",
       "      <td>-0.550300</td>\n",
       "      <td>-0.228269</td>\n",
       "      <td>0.752201</td>\n",
       "      <td>0.746780</td>\n",
       "      <td>1.434452</td>\n",
       "      <td>0.277246</td>\n",
       "      <td>-0.753752</td>\n",
       "      <td>Electronic</td>\n",
       "      <td>-0.377802</td>\n",
       "      <td>-0.391209</td>\n",
       "      <td>0.573406</td>\n",
       "      <td>-0.033041</td>\n",
       "    </tr>\n",
       "    <tr>\n",
       "      <th>4</th>\n",
       "      <td>Divide &amp; Conquer</td>\n",
       "      <td>-0.786291</td>\n",
       "      <td>-0.883974</td>\n",
       "      <td>0.446504</td>\n",
       "      <td>-2.186933e-01</td>\n",
       "      <td>-0.048212</td>\n",
       "      <td>2.235361</td>\n",
       "      <td>-0.228269</td>\n",
       "      <td>0.465324</td>\n",
       "      <td>0.746780</td>\n",
       "      <td>-0.515787</td>\n",
       "      <td>0.862689</td>\n",
       "      <td>-0.539278</td>\n",
       "      <td>Electronic</td>\n",
       "      <td>-0.377802</td>\n",
       "      <td>-0.391209</td>\n",
       "      <td>0.573406</td>\n",
       "      <td>-0.033041</td>\n",
       "    </tr>\n",
       "  </tbody>\n",
       "</table>\n",
       "</div>"
      ],
      "text/plain": [
       "             track_name  popularity  acousticness  danceability   duration_ms  \\\n",
       "0  Röyksopp's Night Out   -1.108003     -0.883886      0.524878  2.751216e-16   \n",
       "1      The Shining Path   -0.850633     -0.860390      0.356933 -2.572242e-01   \n",
       "2             Hurricane   -1.043661     -0.888632      0.345737 -2.825585e-01   \n",
       "3                 Nitro   -0.657606     -0.823184      1.207853 -7.432841e-01   \n",
       "4      Divide & Conquer   -0.786291     -0.883974      0.446504 -2.186933e-01   \n",
       "\n",
       "     energy  instrumentalness  liveness  loudness      mode  speechiness  \\\n",
       "0  1.289876          1.875809 -0.488113  0.638132 -1.339082    -0.185322   \n",
       "1  1.097101          2.361357 -0.432433  0.339248 -1.339082    -0.627258   \n",
       "2  0.586813         -0.521812  2.104140  0.732892  0.746780    -0.582867   \n",
       "3  0.378918         -0.550300 -0.228269  0.752201  0.746780     1.434452   \n",
       "4 -0.048212          2.235361 -0.228269  0.465324  0.746780    -0.515787   \n",
       "\n",
       "      tempo   valence music_genre  track_name_neg  track_name_pos  \\\n",
       "0 -0.655673  1.225073  Electronic       -0.377802       -0.391209   \n",
       "1 -0.170280  0.302431  Electronic       -0.377802       -0.391209   \n",
       "2  0.276558 -0.498812  Electronic       -0.377802       -0.391209   \n",
       "3  0.277246 -0.753752  Electronic       -0.377802       -0.391209   \n",
       "4  0.862689 -0.539278  Electronic       -0.377802       -0.391209   \n",
       "\n",
       "   track_name_neu  track_name_compound  \n",
       "0        0.573406            -0.033041  \n",
       "1        0.573406            -0.033041  \n",
       "2        0.573406            -0.033041  \n",
       "3        0.573406            -0.033041  \n",
       "4        0.573406            -0.033041  "
      ]
     },
     "execution_count": 74,
     "metadata": {},
     "output_type": "execute_result"
    }
   ],
   "source": [
    "std_scaler = StandardScaler()\n",
    "df2[numerical_attributes] = std_scaler.fit_transform(df2[numerical_attributes])\n",
    "df2.head()"
   ]
  },
  {
   "cell_type": "markdown",
   "id": "d36c3a3f",
   "metadata": {},
   "source": [
    "### 4. Changing the values of targets to numerical"
   ]
  },
  {
   "cell_type": "code",
   "execution_count": 75,
   "id": "e0a5b4a8",
   "metadata": {},
   "outputs": [
    {
     "data": {
      "text/html": [
       "<div>\n",
       "<style scoped>\n",
       "    .dataframe tbody tr th:only-of-type {\n",
       "        vertical-align: middle;\n",
       "    }\n",
       "\n",
       "    .dataframe tbody tr th {\n",
       "        vertical-align: top;\n",
       "    }\n",
       "\n",
       "    .dataframe thead th {\n",
       "        text-align: right;\n",
       "    }\n",
       "</style>\n",
       "<table border=\"1\" class=\"dataframe\">\n",
       "  <thead>\n",
       "    <tr style=\"text-align: right;\">\n",
       "      <th></th>\n",
       "      <th>track_name</th>\n",
       "      <th>popularity</th>\n",
       "      <th>acousticness</th>\n",
       "      <th>danceability</th>\n",
       "      <th>duration_ms</th>\n",
       "      <th>energy</th>\n",
       "      <th>instrumentalness</th>\n",
       "      <th>liveness</th>\n",
       "      <th>loudness</th>\n",
       "      <th>mode</th>\n",
       "      <th>speechiness</th>\n",
       "      <th>tempo</th>\n",
       "      <th>valence</th>\n",
       "      <th>music_genre</th>\n",
       "      <th>track_name_neg</th>\n",
       "      <th>track_name_pos</th>\n",
       "      <th>track_name_neu</th>\n",
       "      <th>track_name_compound</th>\n",
       "    </tr>\n",
       "  </thead>\n",
       "  <tbody>\n",
       "    <tr>\n",
       "      <th>43539</th>\n",
       "      <td>Guillaume Tell: Guillaume Tell: Overture</td>\n",
       "      <td>-0.142867</td>\n",
       "      <td>1.727378</td>\n",
       "      <td>-1.568833</td>\n",
       "      <td>4.250150</td>\n",
       "      <td>-1.752951</td>\n",
       "      <td>1.503966</td>\n",
       "      <td>0.093442</td>\n",
       "      <td>-1.527559</td>\n",
       "      <td>0.746780</td>\n",
       "      <td>-0.483234</td>\n",
       "      <td>-9.286413e-15</td>\n",
       "      <td>-1.470014</td>\n",
       "      <td>8</td>\n",
       "      <td>-0.377802</td>\n",
       "      <td>-0.391209</td>\n",
       "      <td>0.573406</td>\n",
       "      <td>-0.033041</td>\n",
       "    </tr>\n",
       "    <tr>\n",
       "      <th>36112</th>\n",
       "      <td>But It's Better If You Do</td>\n",
       "      <td>1.143981</td>\n",
       "      <td>-0.716837</td>\n",
       "      <td>-0.510781</td>\n",
       "      <td>-0.375776</td>\n",
       "      <td>0.938344</td>\n",
       "      <td>-0.558074</td>\n",
       "      <td>0.594570</td>\n",
       "      <td>0.985045</td>\n",
       "      <td>-1.339082</td>\n",
       "      <td>-0.216889</td>\n",
       "      <td>1.722522e+00</td>\n",
       "      <td>0.881106</td>\n",
       "      <td>7</td>\n",
       "      <td>-0.377802</td>\n",
       "      <td>1.582990</td>\n",
       "      <td>-0.926035</td>\n",
       "      <td>2.414633</td>\n",
       "    </tr>\n",
       "    <tr>\n",
       "      <th>38552</th>\n",
       "      <td>High School Never Ends - Main Version - Explicit</td>\n",
       "      <td>1.208323</td>\n",
       "      <td>-0.861855</td>\n",
       "      <td>-0.124508</td>\n",
       "      <td>-0.344694</td>\n",
       "      <td>1.221838</td>\n",
       "      <td>-0.558074</td>\n",
       "      <td>-0.321071</td>\n",
       "      <td>0.915111</td>\n",
       "      <td>0.746780</td>\n",
       "      <td>0.309883</td>\n",
       "      <td>1.378383e+00</td>\n",
       "      <td>1.269587</td>\n",
       "      <td>7</td>\n",
       "      <td>-0.377802</td>\n",
       "      <td>-0.391209</td>\n",
       "      <td>0.573406</td>\n",
       "      <td>-0.033041</td>\n",
       "    </tr>\n",
       "    <tr>\n",
       "      <th>24101</th>\n",
       "      <td>Six Degrees of Separation</td>\n",
       "      <td>-0.593264</td>\n",
       "      <td>-0.241353</td>\n",
       "      <td>-0.829876</td>\n",
       "      <td>-0.527961</td>\n",
       "      <td>0.186142</td>\n",
       "      <td>-0.558074</td>\n",
       "      <td>-0.543794</td>\n",
       "      <td>0.571605</td>\n",
       "      <td>-1.339082</td>\n",
       "      <td>-0.403330</td>\n",
       "      <td>2.131712e-01</td>\n",
       "      <td>-0.535232</td>\n",
       "      <td>4</td>\n",
       "      <td>-0.377802</td>\n",
       "      <td>-0.391209</td>\n",
       "      <td>0.573406</td>\n",
       "      <td>-0.033041</td>\n",
       "    </tr>\n",
       "    <tr>\n",
       "      <th>20070</th>\n",
       "      <td>Homegrown</td>\n",
       "      <td>1.530035</td>\n",
       "      <td>-0.842226</td>\n",
       "      <td>0.888758</td>\n",
       "      <td>-0.382884</td>\n",
       "      <td>0.741789</td>\n",
       "      <td>-0.557800</td>\n",
       "      <td>-0.024106</td>\n",
       "      <td>0.885417</td>\n",
       "      <td>0.746780</td>\n",
       "      <td>-0.624298</td>\n",
       "      <td>-5.136974e-01</td>\n",
       "      <td>1.965615</td>\n",
       "      <td>4</td>\n",
       "      <td>-0.377802</td>\n",
       "      <td>-0.391209</td>\n",
       "      <td>0.573406</td>\n",
       "      <td>-0.033041</td>\n",
       "    </tr>\n",
       "  </tbody>\n",
       "</table>\n",
       "</div>"
      ],
      "text/plain": [
       "                                             track_name  popularity  \\\n",
       "43539          Guillaume Tell: Guillaume Tell: Overture   -0.142867   \n",
       "36112                         But It's Better If You Do    1.143981   \n",
       "38552  High School Never Ends - Main Version - Explicit    1.208323   \n",
       "24101                         Six Degrees of Separation   -0.593264   \n",
       "20070                                         Homegrown    1.530035   \n",
       "\n",
       "       acousticness  danceability  duration_ms    energy  instrumentalness  \\\n",
       "43539      1.727378     -1.568833     4.250150 -1.752951          1.503966   \n",
       "36112     -0.716837     -0.510781    -0.375776  0.938344         -0.558074   \n",
       "38552     -0.861855     -0.124508    -0.344694  1.221838         -0.558074   \n",
       "24101     -0.241353     -0.829876    -0.527961  0.186142         -0.558074   \n",
       "20070     -0.842226      0.888758    -0.382884  0.741789         -0.557800   \n",
       "\n",
       "       liveness  loudness      mode  speechiness         tempo   valence  \\\n",
       "43539  0.093442 -1.527559  0.746780    -0.483234 -9.286413e-15 -1.470014   \n",
       "36112  0.594570  0.985045 -1.339082    -0.216889  1.722522e+00  0.881106   \n",
       "38552 -0.321071  0.915111  0.746780     0.309883  1.378383e+00  1.269587   \n",
       "24101 -0.543794  0.571605 -1.339082    -0.403330  2.131712e-01 -0.535232   \n",
       "20070 -0.024106  0.885417  0.746780    -0.624298 -5.136974e-01  1.965615   \n",
       "\n",
       "       music_genre  track_name_neg  track_name_pos  track_name_neu  \\\n",
       "43539            8       -0.377802       -0.391209        0.573406   \n",
       "36112            7       -0.377802        1.582990       -0.926035   \n",
       "38552            7       -0.377802       -0.391209        0.573406   \n",
       "24101            4       -0.377802       -0.391209        0.573406   \n",
       "20070            4       -0.377802       -0.391209        0.573406   \n",
       "\n",
       "       track_name_compound  \n",
       "43539            -0.033041  \n",
       "36112             2.414633  \n",
       "38552            -0.033041  \n",
       "24101            -0.033041  \n",
       "20070            -0.033041  "
      ]
     },
     "execution_count": 75,
     "metadata": {},
     "output_type": "execute_result"
    }
   ],
   "source": [
    "df2['music_genre'] = df2['music_genre'].map({'Electronic': 0, 'Anime': 1, 'Jazz': 2, 'Alternative': 3, \n",
    "                                           'Country': 4, 'Rap': 5, 'Blues': 6, 'Rock': 7, 'Classical': 8, \n",
    "                                           'Hip-Hop': 9})\n",
    "df2.sample(5)"
   ]
  },
  {
   "cell_type": "markdown",
   "id": "1693ae1d",
   "metadata": {},
   "source": [
    "## Prediction for modified data"
   ]
  },
  {
   "cell_type": "code",
   "execution_count": 76,
   "id": "c6df5e52",
   "metadata": {},
   "outputs": [],
   "source": [
    "X = df2[numerical_attributes]\n",
    "Y = df2['music_genre']\n",
    "test_size = 0.2\n",
    "seed = 7\n",
    "X_train, X_test, Y_train, Y_test = train_test_split(X, Y, test_size=test_size, random_state=seed)\n",
    "scoring = 'accuracy'"
   ]
  },
  {
   "cell_type": "markdown",
   "id": "389d7109",
   "metadata": {},
   "source": [
    "Targets:\n",
    "- 'Electronic': 0, \n",
    "- 'Anime': 1, \n",
    "- 'Jazz': 2, \n",
    "- 'Alternative': 3, \n",
    "- 'Country': 4, \n",
    "- 'Rap': 5, \n",
    "- 'Blues': 6, \n",
    "- 'Rock': 7, \n",
    "- 'Classical': 8, \n",
    "- 'Hip-Hop': 9"
   ]
  },
  {
   "cell_type": "code",
   "execution_count": 77,
   "id": "819f2a74",
   "metadata": {},
   "outputs": [],
   "source": [
    "target_names = list(data['music_genre'].unique())"
   ]
  },
  {
   "cell_type": "markdown",
   "id": "43761078",
   "metadata": {},
   "source": [
    "### Logistic Regression"
   ]
  },
  {
   "cell_type": "code",
   "execution_count": 78,
   "id": "5bf6f1e1",
   "metadata": {},
   "outputs": [
    {
     "name": "stdout",
     "output_type": "stream",
     "text": [
      "52.92 %\n"
     ]
    }
   ],
   "source": [
    "lr = LogisticRegression(solver='newton-cg', penalty='l2')\n",
    "lr.fit(X_train,Y_train)\n",
    "predictions = lr.predict(X_test)\n",
    "print(accuracy_score(Y_test, predictions)*100, '%')\n",
    "df_scores.loc['part2', 'LogReg'] = accuracy_score(Y_test, predictions)*100"
   ]
  },
  {
   "cell_type": "markdown",
   "id": "263a481a",
   "metadata": {},
   "source": [
    "### Decision Tree Classifier"
   ]
  },
  {
   "cell_type": "code",
   "execution_count": 79,
   "id": "9b2907c6",
   "metadata": {},
   "outputs": [
    {
     "name": "stdout",
     "output_type": "stream",
     "text": [
      "53.31 %\n",
      "              precision    recall  f1-score   support\n",
      "\n",
      "  Electronic       0.57      0.53      0.55       966\n",
      "       Anime       0.72      0.71      0.71       986\n",
      "        Jazz       0.46      0.47      0.47       993\n",
      " Alternative       0.40      0.32      0.36      1030\n",
      "     Country       0.51      0.52      0.52       991\n",
      "         Rap       0.41      0.53      0.47       951\n",
      "       Blues       0.55      0.45      0.50      1074\n",
      "        Rock       0.47      0.71      0.57       974\n",
      "   Classical       0.82      0.80      0.81      1007\n",
      "     Hip-Hop       0.42      0.31      0.36      1028\n",
      "\n",
      "    accuracy                           0.53     10000\n",
      "   macro avg       0.54      0.54      0.53     10000\n",
      "weighted avg       0.54      0.53      0.53     10000\n",
      "\n"
     ]
    }
   ],
   "source": [
    "dtc = DecisionTreeClassifier(max_features=None, max_depth=10, criterion='entropy', class_weight= None)\n",
    "dtc.fit(X_train, Y_train)\n",
    "predictions = dtc.predict(X_test)\n",
    "print(accuracy_score(Y_test, predictions)*100, '%')\n",
    "print(classification_report(Y_test, predictions, target_names=target_names))\n",
    "df_scores.loc['part2', 'DTree'] = accuracy_score(Y_test, predictions)*100"
   ]
  },
  {
   "cell_type": "markdown",
   "id": "24f8d623",
   "metadata": {},
   "source": [
    "### Naive Bayes"
   ]
  },
  {
   "cell_type": "code",
   "execution_count": 80,
   "id": "03dca0c0",
   "metadata": {},
   "outputs": [
    {
     "name": "stdout",
     "output_type": "stream",
     "text": [
      "44.4 %\n"
     ]
    }
   ],
   "source": [
    "nb = GaussianNB(var_smoothing=0.1)\n",
    "nb.fit(X_train,Y_train)\n",
    "predictions = nb.predict(X_test)\n",
    "print(accuracy_score(Y_test, predictions)*100, '%')\n",
    "df_scores.loc['part2', 'NBayes'] = accuracy_score(Y_test, predictions)*100"
   ]
  },
  {
   "cell_type": "code",
   "execution_count": 82,
   "id": "db51b04f",
   "metadata": {},
   "outputs": [
    {
     "data": {
      "text/html": [
       "<div>\n",
       "<style scoped>\n",
       "    .dataframe tbody tr th:only-of-type {\n",
       "        vertical-align: middle;\n",
       "    }\n",
       "\n",
       "    .dataframe tbody tr th {\n",
       "        vertical-align: top;\n",
       "    }\n",
       "\n",
       "    .dataframe thead th {\n",
       "        text-align: right;\n",
       "    }\n",
       "</style>\n",
       "<table border=\"1\" class=\"dataframe\">\n",
       "  <thead>\n",
       "    <tr style=\"text-align: right;\">\n",
       "      <th></th>\n",
       "      <th>KNN</th>\n",
       "      <th>LogReg</th>\n",
       "      <th>DTree</th>\n",
       "      <th>NBayes</th>\n",
       "    </tr>\n",
       "  </thead>\n",
       "  <tbody>\n",
       "    <tr>\n",
       "      <th>part1</th>\n",
       "      <td>52.34</td>\n",
       "      <td>52.82</td>\n",
       "      <td>53.36</td>\n",
       "      <td>44.31</td>\n",
       "    </tr>\n",
       "    <tr>\n",
       "      <th>part2</th>\n",
       "      <td>NaN</td>\n",
       "      <td>52.92</td>\n",
       "      <td>53.31</td>\n",
       "      <td>44.40</td>\n",
       "    </tr>\n",
       "    <tr>\n",
       "      <th>part3</th>\n",
       "      <td>0.00</td>\n",
       "      <td>0.00</td>\n",
       "      <td>0.00</td>\n",
       "      <td>0.00</td>\n",
       "    </tr>\n",
       "  </tbody>\n",
       "</table>\n",
       "</div>"
      ],
      "text/plain": [
       "         KNN  LogReg  DTree  NBayes\n",
       "part1  52.34   52.82  53.36   44.31\n",
       "part2    NaN   52.92  53.31   44.40\n",
       "part3   0.00    0.00   0.00    0.00"
      ]
     },
     "execution_count": 82,
     "metadata": {},
     "output_type": "execute_result"
    }
   ],
   "source": [
    "df_scores.loc['part2', 'KNN'] = np.nan\n",
    "df_scores"
   ]
  },
  {
   "cell_type": "markdown",
   "id": "6503a7cb",
   "metadata": {},
   "source": [
    "### Final Conclusions for Part 1 and 2\n",
    "\n",
    "- The best obtained accuracy score: 53.36 % for Decision Tree Classifier\n",
    "- Decision Tree Classifier gives the best results for the accuracy metric\n",
    "- Perhaps taking into account 'key' attribute could result in better performance\n",
    "- There is too little information in short track names.\n",
    "- Sentiment intensity analysis could be better with having song lyrics in the data"
   ]
  },
  {
   "cell_type": "markdown",
   "id": "58b4333f",
   "metadata": {},
   "source": [
    "# Part 3 - RAP and HIP-HOP genres merged"
   ]
  },
  {
   "cell_type": "markdown",
   "id": "172d0a9a",
   "metadata": {},
   "source": [
    "In order to improve performance of song genre prediction the idea is to merge similar genres - Rap and Hip-Hop to single target - Rap.\n",
    "Our new targets:\n",
    "- 'Electronic': 0, \n",
    "- 'Anime': 1, \n",
    "- 'Jazz': 2, \n",
    "- 'Alternative': 3, \n",
    "- 'Country': 4, \n",
    "- 'Rap': 5, \n",
    "- 'Blues': 6, \n",
    "- 'Rock': 7, \n",
    "- 'Classical': 8, "
   ]
  },
  {
   "cell_type": "markdown",
   "id": "7b50108f",
   "metadata": {},
   "source": [
    "Due to the fact that the sentiment analysis of song names did not significantly improve prediction performance, it was decided not to use it"
   ]
  },
  {
   "cell_type": "code",
   "execution_count": 83,
   "id": "6883fd83",
   "metadata": {},
   "outputs": [],
   "source": [
    "numerical_attributes = ['popularity', 'acousticness', 'danceability', 'duration_ms', \n",
    "                          'energy', 'instrumentalness', 'liveness', 'loudness', 'mode', \n",
    "                          'speechiness', 'tempo', 'valence']"
   ]
  },
  {
   "cell_type": "code",
   "execution_count": 84,
   "id": "564c34d2",
   "metadata": {},
   "outputs": [],
   "source": [
    "df1 = data.copy()\n",
    "df1 = data[numerical_attributes + ['music_genre']]"
   ]
  },
  {
   "cell_type": "markdown",
   "id": "075e9923",
   "metadata": {},
   "source": [
    "Merging genres"
   ]
  },
  {
   "cell_type": "code",
   "execution_count": 85,
   "id": "d27cf4b7",
   "metadata": {},
   "outputs": [],
   "source": [
    "df1.loc[data['music_genre'] == 'Hip-Hop', 'music_genre'] = 'Rap'"
   ]
  },
  {
   "cell_type": "code",
   "execution_count": 86,
   "id": "dbb2b29e",
   "metadata": {},
   "outputs": [
    {
     "data": {
      "text/html": [
       "<div>\n",
       "<style scoped>\n",
       "    .dataframe tbody tr th:only-of-type {\n",
       "        vertical-align: middle;\n",
       "    }\n",
       "\n",
       "    .dataframe tbody tr th {\n",
       "        vertical-align: top;\n",
       "    }\n",
       "\n",
       "    .dataframe thead th {\n",
       "        text-align: right;\n",
       "    }\n",
       "</style>\n",
       "<table border=\"1\" class=\"dataframe\">\n",
       "  <thead>\n",
       "    <tr style=\"text-align: right;\">\n",
       "      <th></th>\n",
       "      <th>popularity</th>\n",
       "      <th>acousticness</th>\n",
       "      <th>danceability</th>\n",
       "      <th>duration_ms</th>\n",
       "      <th>energy</th>\n",
       "      <th>instrumentalness</th>\n",
       "      <th>liveness</th>\n",
       "      <th>loudness</th>\n",
       "      <th>mode</th>\n",
       "      <th>speechiness</th>\n",
       "      <th>tempo</th>\n",
       "      <th>valence</th>\n",
       "    </tr>\n",
       "    <tr>\n",
       "      <th>music_genre</th>\n",
       "      <th></th>\n",
       "      <th></th>\n",
       "      <th></th>\n",
       "      <th></th>\n",
       "      <th></th>\n",
       "      <th></th>\n",
       "      <th></th>\n",
       "      <th></th>\n",
       "      <th></th>\n",
       "      <th></th>\n",
       "      <th></th>\n",
       "      <th></th>\n",
       "    </tr>\n",
       "  </thead>\n",
       "  <tbody>\n",
       "    <tr>\n",
       "      <th>Alternative</th>\n",
       "      <td>5000</td>\n",
       "      <td>5000</td>\n",
       "      <td>5000</td>\n",
       "      <td>5000</td>\n",
       "      <td>5000</td>\n",
       "      <td>5000</td>\n",
       "      <td>5000</td>\n",
       "      <td>5000</td>\n",
       "      <td>5000</td>\n",
       "      <td>5000</td>\n",
       "      <td>5000</td>\n",
       "      <td>5000</td>\n",
       "    </tr>\n",
       "    <tr>\n",
       "      <th>Anime</th>\n",
       "      <td>5000</td>\n",
       "      <td>5000</td>\n",
       "      <td>5000</td>\n",
       "      <td>5000</td>\n",
       "      <td>5000</td>\n",
       "      <td>5000</td>\n",
       "      <td>5000</td>\n",
       "      <td>5000</td>\n",
       "      <td>5000</td>\n",
       "      <td>5000</td>\n",
       "      <td>5000</td>\n",
       "      <td>5000</td>\n",
       "    </tr>\n",
       "    <tr>\n",
       "      <th>Blues</th>\n",
       "      <td>5000</td>\n",
       "      <td>5000</td>\n",
       "      <td>5000</td>\n",
       "      <td>5000</td>\n",
       "      <td>5000</td>\n",
       "      <td>5000</td>\n",
       "      <td>5000</td>\n",
       "      <td>5000</td>\n",
       "      <td>5000</td>\n",
       "      <td>5000</td>\n",
       "      <td>5000</td>\n",
       "      <td>5000</td>\n",
       "    </tr>\n",
       "    <tr>\n",
       "      <th>Classical</th>\n",
       "      <td>5000</td>\n",
       "      <td>5000</td>\n",
       "      <td>5000</td>\n",
       "      <td>5000</td>\n",
       "      <td>5000</td>\n",
       "      <td>5000</td>\n",
       "      <td>5000</td>\n",
       "      <td>5000</td>\n",
       "      <td>5000</td>\n",
       "      <td>5000</td>\n",
       "      <td>5000</td>\n",
       "      <td>5000</td>\n",
       "    </tr>\n",
       "    <tr>\n",
       "      <th>Country</th>\n",
       "      <td>5000</td>\n",
       "      <td>5000</td>\n",
       "      <td>5000</td>\n",
       "      <td>5000</td>\n",
       "      <td>5000</td>\n",
       "      <td>5000</td>\n",
       "      <td>5000</td>\n",
       "      <td>5000</td>\n",
       "      <td>5000</td>\n",
       "      <td>5000</td>\n",
       "      <td>5000</td>\n",
       "      <td>5000</td>\n",
       "    </tr>\n",
       "    <tr>\n",
       "      <th>Electronic</th>\n",
       "      <td>5000</td>\n",
       "      <td>5000</td>\n",
       "      <td>5000</td>\n",
       "      <td>5000</td>\n",
       "      <td>5000</td>\n",
       "      <td>5000</td>\n",
       "      <td>5000</td>\n",
       "      <td>5000</td>\n",
       "      <td>5000</td>\n",
       "      <td>5000</td>\n",
       "      <td>5000</td>\n",
       "      <td>5000</td>\n",
       "    </tr>\n",
       "    <tr>\n",
       "      <th>Jazz</th>\n",
       "      <td>5000</td>\n",
       "      <td>5000</td>\n",
       "      <td>5000</td>\n",
       "      <td>5000</td>\n",
       "      <td>5000</td>\n",
       "      <td>5000</td>\n",
       "      <td>5000</td>\n",
       "      <td>5000</td>\n",
       "      <td>5000</td>\n",
       "      <td>5000</td>\n",
       "      <td>5000</td>\n",
       "      <td>5000</td>\n",
       "    </tr>\n",
       "    <tr>\n",
       "      <th>Rap</th>\n",
       "      <td>10000</td>\n",
       "      <td>10000</td>\n",
       "      <td>10000</td>\n",
       "      <td>10000</td>\n",
       "      <td>10000</td>\n",
       "      <td>10000</td>\n",
       "      <td>10000</td>\n",
       "      <td>10000</td>\n",
       "      <td>10000</td>\n",
       "      <td>10000</td>\n",
       "      <td>10000</td>\n",
       "      <td>10000</td>\n",
       "    </tr>\n",
       "    <tr>\n",
       "      <th>Rock</th>\n",
       "      <td>5000</td>\n",
       "      <td>5000</td>\n",
       "      <td>5000</td>\n",
       "      <td>5000</td>\n",
       "      <td>5000</td>\n",
       "      <td>5000</td>\n",
       "      <td>5000</td>\n",
       "      <td>5000</td>\n",
       "      <td>5000</td>\n",
       "      <td>5000</td>\n",
       "      <td>5000</td>\n",
       "      <td>5000</td>\n",
       "    </tr>\n",
       "  </tbody>\n",
       "</table>\n",
       "</div>"
      ],
      "text/plain": [
       "             popularity  acousticness  danceability  duration_ms  energy  \\\n",
       "music_genre                                                                \n",
       "Alternative        5000          5000          5000         5000    5000   \n",
       "Anime              5000          5000          5000         5000    5000   \n",
       "Blues              5000          5000          5000         5000    5000   \n",
       "Classical          5000          5000          5000         5000    5000   \n",
       "Country            5000          5000          5000         5000    5000   \n",
       "Electronic         5000          5000          5000         5000    5000   \n",
       "Jazz               5000          5000          5000         5000    5000   \n",
       "Rap               10000         10000         10000        10000   10000   \n",
       "Rock               5000          5000          5000         5000    5000   \n",
       "\n",
       "             instrumentalness  liveness  loudness   mode  speechiness  tempo  \\\n",
       "music_genre                                                                    \n",
       "Alternative              5000      5000      5000   5000         5000   5000   \n",
       "Anime                    5000      5000      5000   5000         5000   5000   \n",
       "Blues                    5000      5000      5000   5000         5000   5000   \n",
       "Classical                5000      5000      5000   5000         5000   5000   \n",
       "Country                  5000      5000      5000   5000         5000   5000   \n",
       "Electronic               5000      5000      5000   5000         5000   5000   \n",
       "Jazz                     5000      5000      5000   5000         5000   5000   \n",
       "Rap                     10000     10000     10000  10000        10000  10000   \n",
       "Rock                     5000      5000      5000   5000         5000   5000   \n",
       "\n",
       "             valence  \n",
       "music_genre           \n",
       "Alternative     5000  \n",
       "Anime           5000  \n",
       "Blues           5000  \n",
       "Classical       5000  \n",
       "Country         5000  \n",
       "Electronic      5000  \n",
       "Jazz            5000  \n",
       "Rap            10000  \n",
       "Rock            5000  "
      ]
     },
     "execution_count": 86,
     "metadata": {},
     "output_type": "execute_result"
    }
   ],
   "source": [
    "df1.groupby(['music_genre']).count()"
   ]
  },
  {
   "cell_type": "markdown",
   "id": "1526414d",
   "metadata": {},
   "source": [
    "Data standardization"
   ]
  },
  {
   "cell_type": "code",
   "execution_count": 87,
   "id": "5df18267",
   "metadata": {},
   "outputs": [
    {
     "name": "stderr",
     "output_type": "stream",
     "text": [
      "C:\\Users\\FILIPK~1\\AppData\\Local\\Temp/ipykernel_3808/4104061024.py:2: SettingWithCopyWarning: \n",
      "A value is trying to be set on a copy of a slice from a DataFrame.\n",
      "Try using .loc[row_indexer,col_indexer] = value instead\n",
      "\n",
      "See the caveats in the documentation: https://pandas.pydata.org/pandas-docs/stable/user_guide/indexing.html#returning-a-view-versus-a-copy\n",
      "  df1[numerical_attributes] = std_scaler.fit_transform(df1[numerical_attributes])\n"
     ]
    },
    {
     "data": {
      "text/html": [
       "<div>\n",
       "<style scoped>\n",
       "    .dataframe tbody tr th:only-of-type {\n",
       "        vertical-align: middle;\n",
       "    }\n",
       "\n",
       "    .dataframe tbody tr th {\n",
       "        vertical-align: top;\n",
       "    }\n",
       "\n",
       "    .dataframe thead th {\n",
       "        text-align: right;\n",
       "    }\n",
       "</style>\n",
       "<table border=\"1\" class=\"dataframe\">\n",
       "  <thead>\n",
       "    <tr style=\"text-align: right;\">\n",
       "      <th></th>\n",
       "      <th>popularity</th>\n",
       "      <th>acousticness</th>\n",
       "      <th>danceability</th>\n",
       "      <th>duration_ms</th>\n",
       "      <th>energy</th>\n",
       "      <th>instrumentalness</th>\n",
       "      <th>liveness</th>\n",
       "      <th>loudness</th>\n",
       "      <th>mode</th>\n",
       "      <th>speechiness</th>\n",
       "      <th>tempo</th>\n",
       "      <th>valence</th>\n",
       "      <th>music_genre</th>\n",
       "    </tr>\n",
       "  </thead>\n",
       "  <tbody>\n",
       "    <tr>\n",
       "      <th>0</th>\n",
       "      <td>-1.108003</td>\n",
       "      <td>-0.883886</td>\n",
       "      <td>0.524878</td>\n",
       "      <td>2.751216e-16</td>\n",
       "      <td>1.289876</td>\n",
       "      <td>1.875809</td>\n",
       "      <td>-0.488113</td>\n",
       "      <td>0.638132</td>\n",
       "      <td>-1.339082</td>\n",
       "      <td>-0.185322</td>\n",
       "      <td>-0.655673</td>\n",
       "      <td>1.225073</td>\n",
       "      <td>Electronic</td>\n",
       "    </tr>\n",
       "    <tr>\n",
       "      <th>1</th>\n",
       "      <td>-0.850633</td>\n",
       "      <td>-0.860390</td>\n",
       "      <td>0.356933</td>\n",
       "      <td>-2.572242e-01</td>\n",
       "      <td>1.097101</td>\n",
       "      <td>2.361357</td>\n",
       "      <td>-0.432433</td>\n",
       "      <td>0.339248</td>\n",
       "      <td>-1.339082</td>\n",
       "      <td>-0.627258</td>\n",
       "      <td>-0.170280</td>\n",
       "      <td>0.302431</td>\n",
       "      <td>Electronic</td>\n",
       "    </tr>\n",
       "    <tr>\n",
       "      <th>2</th>\n",
       "      <td>-1.043661</td>\n",
       "      <td>-0.888632</td>\n",
       "      <td>0.345737</td>\n",
       "      <td>-2.825585e-01</td>\n",
       "      <td>0.586813</td>\n",
       "      <td>-0.521812</td>\n",
       "      <td>2.104140</td>\n",
       "      <td>0.732892</td>\n",
       "      <td>0.746780</td>\n",
       "      <td>-0.582867</td>\n",
       "      <td>0.276558</td>\n",
       "      <td>-0.498812</td>\n",
       "      <td>Electronic</td>\n",
       "    </tr>\n",
       "    <tr>\n",
       "      <th>3</th>\n",
       "      <td>-0.657606</td>\n",
       "      <td>-0.823184</td>\n",
       "      <td>1.207853</td>\n",
       "      <td>-7.432841e-01</td>\n",
       "      <td>0.378918</td>\n",
       "      <td>-0.550300</td>\n",
       "      <td>-0.228269</td>\n",
       "      <td>0.752201</td>\n",
       "      <td>0.746780</td>\n",
       "      <td>1.434452</td>\n",
       "      <td>0.277246</td>\n",
       "      <td>-0.753752</td>\n",
       "      <td>Electronic</td>\n",
       "    </tr>\n",
       "    <tr>\n",
       "      <th>4</th>\n",
       "      <td>-0.786291</td>\n",
       "      <td>-0.883974</td>\n",
       "      <td>0.446504</td>\n",
       "      <td>-2.186933e-01</td>\n",
       "      <td>-0.048212</td>\n",
       "      <td>2.235361</td>\n",
       "      <td>-0.228269</td>\n",
       "      <td>0.465324</td>\n",
       "      <td>0.746780</td>\n",
       "      <td>-0.515787</td>\n",
       "      <td>0.862689</td>\n",
       "      <td>-0.539278</td>\n",
       "      <td>Electronic</td>\n",
       "    </tr>\n",
       "  </tbody>\n",
       "</table>\n",
       "</div>"
      ],
      "text/plain": [
       "   popularity  acousticness  danceability   duration_ms    energy  \\\n",
       "0   -1.108003     -0.883886      0.524878  2.751216e-16  1.289876   \n",
       "1   -0.850633     -0.860390      0.356933 -2.572242e-01  1.097101   \n",
       "2   -1.043661     -0.888632      0.345737 -2.825585e-01  0.586813   \n",
       "3   -0.657606     -0.823184      1.207853 -7.432841e-01  0.378918   \n",
       "4   -0.786291     -0.883974      0.446504 -2.186933e-01 -0.048212   \n",
       "\n",
       "   instrumentalness  liveness  loudness      mode  speechiness     tempo  \\\n",
       "0          1.875809 -0.488113  0.638132 -1.339082    -0.185322 -0.655673   \n",
       "1          2.361357 -0.432433  0.339248 -1.339082    -0.627258 -0.170280   \n",
       "2         -0.521812  2.104140  0.732892  0.746780    -0.582867  0.276558   \n",
       "3         -0.550300 -0.228269  0.752201  0.746780     1.434452  0.277246   \n",
       "4          2.235361 -0.228269  0.465324  0.746780    -0.515787  0.862689   \n",
       "\n",
       "    valence music_genre  \n",
       "0  1.225073  Electronic  \n",
       "1  0.302431  Electronic  \n",
       "2 -0.498812  Electronic  \n",
       "3 -0.753752  Electronic  \n",
       "4 -0.539278  Electronic  "
      ]
     },
     "execution_count": 87,
     "metadata": {},
     "output_type": "execute_result"
    }
   ],
   "source": [
    "std_scaler = StandardScaler()\n",
    "df1[numerical_attributes] = std_scaler.fit_transform(df1[numerical_attributes])\n",
    "df1.head()"
   ]
  },
  {
   "cell_type": "code",
   "execution_count": 88,
   "id": "a8e54173",
   "metadata": {},
   "outputs": [
    {
     "name": "stderr",
     "output_type": "stream",
     "text": [
      "C:\\Users\\FILIPK~1\\AppData\\Local\\Temp/ipykernel_3808/1815902761.py:1: SettingWithCopyWarning: \n",
      "A value is trying to be set on a copy of a slice from a DataFrame.\n",
      "Try using .loc[row_indexer,col_indexer] = value instead\n",
      "\n",
      "See the caveats in the documentation: https://pandas.pydata.org/pandas-docs/stable/user_guide/indexing.html#returning-a-view-versus-a-copy\n",
      "  df1['music_genre'] = df1['music_genre'].map({'Electronic': 0, 'Anime': 1, 'Jazz': 2, 'Alternative': 3,\n"
     ]
    }
   ],
   "source": [
    "df1['music_genre'] = df1['music_genre'].map({'Electronic': 0, 'Anime': 1, 'Jazz': 2, 'Alternative': 3, \n",
    "                                           'Country': 4, 'Rap': 5, 'Blues': 6, 'Rock': 7, 'Classical': 8})"
   ]
  },
  {
   "cell_type": "code",
   "execution_count": 89,
   "id": "4d5895a1",
   "metadata": {},
   "outputs": [
    {
     "data": {
      "text/html": [
       "<div>\n",
       "<style scoped>\n",
       "    .dataframe tbody tr th:only-of-type {\n",
       "        vertical-align: middle;\n",
       "    }\n",
       "\n",
       "    .dataframe tbody tr th {\n",
       "        vertical-align: top;\n",
       "    }\n",
       "\n",
       "    .dataframe thead th {\n",
       "        text-align: right;\n",
       "    }\n",
       "</style>\n",
       "<table border=\"1\" class=\"dataframe\">\n",
       "  <thead>\n",
       "    <tr style=\"text-align: right;\">\n",
       "      <th></th>\n",
       "      <th>popularity</th>\n",
       "      <th>acousticness</th>\n",
       "      <th>danceability</th>\n",
       "      <th>duration_ms</th>\n",
       "      <th>energy</th>\n",
       "      <th>instrumentalness</th>\n",
       "      <th>liveness</th>\n",
       "      <th>loudness</th>\n",
       "      <th>mode</th>\n",
       "      <th>speechiness</th>\n",
       "      <th>tempo</th>\n",
       "      <th>valence</th>\n",
       "      <th>music_genre</th>\n",
       "    </tr>\n",
       "  </thead>\n",
       "  <tbody>\n",
       "    <tr>\n",
       "      <th>19526</th>\n",
       "      <td>-0.014182</td>\n",
       "      <td>-0.852187</td>\n",
       "      <td>0.558467</td>\n",
       "      <td>-0.371162</td>\n",
       "      <td>-0.346825</td>\n",
       "      <td>-0.558074</td>\n",
       "      <td>1.052390</td>\n",
       "      <td>-0.930927</td>\n",
       "      <td>-1.339082</td>\n",
       "      <td>3.969665</td>\n",
       "      <td>2.447843e+00</td>\n",
       "      <td>1.480014</td>\n",
       "      <td>3</td>\n",
       "    </tr>\n",
       "    <tr>\n",
       "      <th>27439</th>\n",
       "      <td>1.916089</td>\n",
       "      <td>-0.387836</td>\n",
       "      <td>0.244970</td>\n",
       "      <td>-0.053415</td>\n",
       "      <td>0.473416</td>\n",
       "      <td>-0.558074</td>\n",
       "      <td>-0.713312</td>\n",
       "      <td>0.986505</td>\n",
       "      <td>0.746780</td>\n",
       "      <td>-0.535517</td>\n",
       "      <td>9.802234e-02</td>\n",
       "      <td>-0.616165</td>\n",
       "      <td>5</td>\n",
       "    </tr>\n",
       "    <tr>\n",
       "      <th>12557</th>\n",
       "      <td>-0.078525</td>\n",
       "      <td>-0.879873</td>\n",
       "      <td>0.071427</td>\n",
       "      <td>-0.711021</td>\n",
       "      <td>0.492315</td>\n",
       "      <td>2.112437</td>\n",
       "      <td>0.427527</td>\n",
       "      <td>0.111921</td>\n",
       "      <td>-1.339082</td>\n",
       "      <td>0.339477</td>\n",
       "      <td>-9.286413e-15</td>\n",
       "      <td>0.763752</td>\n",
       "      <td>2</td>\n",
       "    </tr>\n",
       "    <tr>\n",
       "      <th>17653</th>\n",
       "      <td>0.500557</td>\n",
       "      <td>-0.896334</td>\n",
       "      <td>-0.773895</td>\n",
       "      <td>0.494619</td>\n",
       "      <td>1.131120</td>\n",
       "      <td>-0.557322</td>\n",
       "      <td>0.223364</td>\n",
       "      <td>0.598378</td>\n",
       "      <td>-1.339082</td>\n",
       "      <td>-0.188281</td>\n",
       "      <td>-9.286413e-15</td>\n",
       "      <td>-1.065347</td>\n",
       "      <td>3</td>\n",
       "    </tr>\n",
       "    <tr>\n",
       "      <th>28468</th>\n",
       "      <td>0.500557</td>\n",
       "      <td>-0.624846</td>\n",
       "      <td>1.739679</td>\n",
       "      <td>0.003814</td>\n",
       "      <td>-0.452662</td>\n",
       "      <td>-0.558074</td>\n",
       "      <td>-0.607518</td>\n",
       "      <td>0.397662</td>\n",
       "      <td>0.746780</td>\n",
       "      <td>-0.289887</td>\n",
       "      <td>-3.077845e-01</td>\n",
       "      <td>-1.610434</td>\n",
       "      <td>5</td>\n",
       "    </tr>\n",
       "  </tbody>\n",
       "</table>\n",
       "</div>"
      ],
      "text/plain": [
       "       popularity  acousticness  danceability  duration_ms    energy  \\\n",
       "19526   -0.014182     -0.852187      0.558467    -0.371162 -0.346825   \n",
       "27439    1.916089     -0.387836      0.244970    -0.053415  0.473416   \n",
       "12557   -0.078525     -0.879873      0.071427    -0.711021  0.492315   \n",
       "17653    0.500557     -0.896334     -0.773895     0.494619  1.131120   \n",
       "28468    0.500557     -0.624846      1.739679     0.003814 -0.452662   \n",
       "\n",
       "       instrumentalness  liveness  loudness      mode  speechiness  \\\n",
       "19526         -0.558074  1.052390 -0.930927 -1.339082     3.969665   \n",
       "27439         -0.558074 -0.713312  0.986505  0.746780    -0.535517   \n",
       "12557          2.112437  0.427527  0.111921 -1.339082     0.339477   \n",
       "17653         -0.557322  0.223364  0.598378 -1.339082    -0.188281   \n",
       "28468         -0.558074 -0.607518  0.397662  0.746780    -0.289887   \n",
       "\n",
       "              tempo   valence  music_genre  \n",
       "19526  2.447843e+00  1.480014            3  \n",
       "27439  9.802234e-02 -0.616165            5  \n",
       "12557 -9.286413e-15  0.763752            2  \n",
       "17653 -9.286413e-15 -1.065347            3  \n",
       "28468 -3.077845e-01 -1.610434            5  "
      ]
     },
     "execution_count": 89,
     "metadata": {},
     "output_type": "execute_result"
    }
   ],
   "source": [
    "df1.sample(5)"
   ]
  },
  {
   "cell_type": "markdown",
   "id": "d8db5e86",
   "metadata": {},
   "source": [
    "## Prediction"
   ]
  },
  {
   "cell_type": "code",
   "execution_count": 90,
   "id": "a6aa514f",
   "metadata": {},
   "outputs": [],
   "source": [
    "X = df1[numerical_attributes]\n",
    "Y = df1['music_genre']\n",
    "test_size = 0.2\n",
    "seed = 7\n",
    "X_train, X_test, Y_train, Y_test = train_test_split(X, Y, test_size=test_size, random_state=seed)\n",
    "scoring = 'accuracy'"
   ]
  },
  {
   "cell_type": "code",
   "execution_count": 91,
   "id": "57f5c465",
   "metadata": {},
   "outputs": [
    {
     "data": {
      "text/plain": [
       "['Electronic',\n",
       " 'Anime',\n",
       " 'Jazz',\n",
       " 'Alternative',\n",
       " 'Country',\n",
       " 'Rap',\n",
       " 'Blues',\n",
       " 'Rock',\n",
       " 'Classical']"
      ]
     },
     "execution_count": 91,
     "metadata": {},
     "output_type": "execute_result"
    }
   ],
   "source": [
    "target_names = list(data['music_genre'].unique())\n",
    "target_names.remove('Hip-Hop')\n",
    "target_names"
   ]
  },
  {
   "cell_type": "markdown",
   "id": "e49c70b6",
   "metadata": {},
   "source": [
    "## KNN"
   ]
  },
  {
   "cell_type": "code",
   "execution_count": 92,
   "id": "7a984388",
   "metadata": {},
   "outputs": [
    {
     "name": "stdout",
     "output_type": "stream",
     "text": [
      "accuracy score:  61.27 %\n",
      "\n",
      "classification_report:\n",
      "               precision    recall  f1-score   support\n",
      "\n",
      "  Electronic       0.60      0.59      0.60       966\n",
      "       Anime       0.71      0.70      0.70       986\n",
      "        Jazz       0.50      0.50      0.50       993\n",
      " Alternative       0.40      0.34      0.37      1030\n",
      "     Country       0.45      0.58      0.51       991\n",
      "         Rap       0.75      0.86      0.80      1979\n",
      "       Blues       0.64      0.42      0.50      1074\n",
      "        Rock       0.49      0.49      0.49       974\n",
      "   Classical       0.84      0.84      0.84      1007\n",
      "\n",
      "    accuracy                           0.61     10000\n",
      "   macro avg       0.60      0.59      0.59     10000\n",
      "weighted avg       0.61      0.61      0.61     10000\n",
      "\n"
     ]
    },
    {
     "data": {
      "image/png": "[encoded data removed]",
      "text/plain": [
       "<Figure size 432x288 with 2 Axes>"
      ]
     },
     "metadata": {
      "needs_background": "light"
     },
     "output_type": "display_data"
    }
   ],
   "source": [
    "knn = KNeighborsClassifier(n_neighbors=12, weights='uniform')\n",
    "knn.fit(X_train, Y_train)\n",
    "predictions = knn.predict(X_test)\n",
    "print(\"accuracy score: \", accuracy_score(Y_test, predictions)*100, '%')\n",
    "print(\"\\nclassification_report:\\n\", classification_report(Y_test, predictions, target_names=target_names))\n",
    "plot_confusion_matrix(knn, X_test, Y_test)  \n",
    "plt.show()\n",
    "df_scores.loc['part3', 'KNN'] = accuracy_score(Y_test, predictions)*100"
   ]
  },
  {
   "cell_type": "markdown",
   "id": "410c2b60",
   "metadata": {},
   "source": [
    "### Logistic Regression"
   ]
  },
  {
   "cell_type": "code",
   "execution_count": 93,
   "id": "8a9710a9",
   "metadata": {},
   "outputs": [
    {
     "name": "stdout",
     "output_type": "stream",
     "text": [
      "accuracy score:  60.74 %\n",
      "\n",
      "classification_report:\n",
      "               precision    recall  f1-score   support\n",
      "\n",
      "  Electronic       0.58      0.60      0.59       966\n",
      "       Anime       0.63      0.62      0.63       986\n",
      "        Jazz       0.50      0.43      0.46       993\n",
      " Alternative       0.45      0.28      0.35      1030\n",
      "     Country       0.46      0.57      0.51       991\n",
      "         Rap       0.76      0.87      0.81      1979\n",
      "       Blues       0.54      0.46      0.50      1074\n",
      "        Rock       0.51      0.57      0.54       974\n",
      "   Classical       0.80      0.82      0.81      1007\n",
      "\n",
      "    accuracy                           0.61     10000\n",
      "   macro avg       0.58      0.58      0.58     10000\n",
      "weighted avg       0.60      0.61      0.60     10000\n",
      "\n"
     ]
    },
    {
     "data": {
      "image/png": "[encoded data removed]",
      "text/plain": [
       "<Figure size 432x288 with 2 Axes>"
      ]
     },
     "metadata": {
      "needs_background": "light"
     },
     "output_type": "display_data"
    }
   ],
   "source": [
    "lr = LogisticRegression(solver='newton-cg', penalty='l2')\n",
    "lr.fit(X_train, Y_train)\n",
    "predictions = lr.predict(X_test)\n",
    "print(\"accuracy score: \", accuracy_score(Y_test, predictions)*100, '%')\n",
    "print(\"\\nclassification_report:\\n\", classification_report(Y_test, predictions, target_names=target_names))\n",
    "plot_confusion_matrix(lr, X_test, Y_test)  \n",
    "plt.show()\n",
    "df_scores.loc['part3', 'LogReg'] = accuracy_score(Y_test, predictions)*100"
   ]
  },
  {
   "cell_type": "markdown",
   "id": "c1a2c823",
   "metadata": {},
   "source": [
    "## Decision Tree Classifier"
   ]
  },
  {
   "cell_type": "code",
   "execution_count": 94,
   "id": "3124b5f5",
   "metadata": {},
   "outputs": [
    {
     "name": "stdout",
     "output_type": "stream",
     "text": [
      "accuracy score:  60.64000000000001 %\n",
      "\n",
      "classification_report:\n",
      "               precision    recall  f1-score   support\n",
      "\n",
      "  Electronic       0.54      0.51      0.53       966\n",
      "       Anime       0.70      0.71      0.71       986\n",
      "        Jazz       0.46      0.43      0.45       993\n",
      " Alternative       0.41      0.32      0.36      1030\n",
      "     Country       0.53      0.52      0.52       991\n",
      "         Rap       0.79      0.84      0.81      1979\n",
      "       Blues       0.53      0.47      0.50      1074\n",
      "        Rock       0.47      0.65      0.54       974\n",
      "   Classical       0.82      0.79      0.80      1007\n",
      "\n",
      "    accuracy                           0.61     10000\n",
      "   macro avg       0.58      0.58      0.58     10000\n",
      "weighted avg       0.60      0.61      0.60     10000\n",
      "\n"
     ]
    },
    {
     "data": {
      "image/png": "[encoded data removed]",
      "text/plain": [
       "<Figure size 432x288 with 2 Axes>"
      ]
     },
     "metadata": {
      "needs_background": "light"
     },
     "output_type": "display_data"
    }
   ],
   "source": [
    "dtc = DecisionTreeClassifier(max_features=None, max_depth=10, criterion='entropy', class_weight=None)\n",
    "dtc.fit(X_train, Y_train)\n",
    "predictions = dtc.predict(X_test)\n",
    "print(\"accuracy score: \", accuracy_score(Y_test, predictions)*100, '%')\n",
    "print(\"\\nclassification_report:\\n\", classification_report(Y_test, predictions, target_names=target_names))\n",
    "plot_confusion_matrix(dtc, X_test, Y_test)  \n",
    "plt.show()\n",
    "df_scores.loc['part3', 'DTree'] = accuracy_score(Y_test, predictions)*100"
   ]
  },
  {
   "cell_type": "markdown",
   "id": "06f91d38",
   "metadata": {},
   "source": [
    "## Naive Bayes"
   ]
  },
  {
   "cell_type": "code",
   "execution_count": 95,
   "id": "cc48ea26",
   "metadata": {},
   "outputs": [
    {
     "name": "stdout",
     "output_type": "stream",
     "text": [
      "accuracy score:  51.77 %\n",
      "\n",
      "classification_report:\n",
      "               precision    recall  f1-score   support\n",
      "\n",
      "  Electronic       0.53      0.43      0.47       966\n",
      "       Anime       0.67      0.35      0.46       986\n",
      "        Jazz       0.43      0.33      0.37       993\n",
      " Alternative       0.37      0.20      0.26      1030\n",
      "     Country       0.29      0.69      0.41       991\n",
      "         Rap       0.69      0.85      0.76      1979\n",
      "       Blues       0.51      0.23      0.31      1074\n",
      "        Rock       0.49      0.40      0.44       974\n",
      "   Classical       0.68      0.88      0.76      1007\n",
      "\n",
      "    accuracy                           0.52     10000\n",
      "   macro avg       0.52      0.48      0.47     10000\n",
      "weighted avg       0.54      0.52      0.50     10000\n",
      "\n"
     ]
    },
    {
     "data": {
      "image/png": "[encoded data removed]",
      "text/plain": [
       "<Figure size 432x288 with 2 Axes>"
      ]
     },
     "metadata": {
      "needs_background": "light"
     },
     "output_type": "display_data"
    }
   ],
   "source": [
    "nb = GaussianNB(var_smoothing=0.1)\n",
    "nb.fit(X_train,Y_train)\n",
    "predictions = nb.predict(X_test)\n",
    "print(\"accuracy score: \", accuracy_score(Y_test, predictions)*100, '%')\n",
    "print(\"\\nclassification_report:\\n\", classification_report(Y_test, predictions, target_names=target_names))\n",
    "plot_confusion_matrix(nb, X_test, Y_test)  \n",
    "plt.show()\n",
    "df_scores.loc['part3', 'NBayes'] = accuracy_score(Y_test, predictions)*100"
   ]
  },
  {
   "cell_type": "markdown",
   "id": "691cd130",
   "metadata": {},
   "source": [
    "# Final results"
   ]
  },
  {
   "cell_type": "markdown",
   "id": "045d33fb",
   "metadata": {},
   "source": [
    "Prediction accuracies for applied algorithms"
   ]
  },
  {
   "cell_type": "code",
   "execution_count": 99,
   "id": "8df81b47",
   "metadata": {},
   "outputs": [
    {
     "data": {
      "text/html": [
       "<div>\n",
       "<style scoped>\n",
       "    .dataframe tbody tr th:only-of-type {\n",
       "        vertical-align: middle;\n",
       "    }\n",
       "\n",
       "    .dataframe tbody tr th {\n",
       "        vertical-align: top;\n",
       "    }\n",
       "\n",
       "    .dataframe thead th {\n",
       "        text-align: right;\n",
       "    }\n",
       "</style>\n",
       "<table border=\"1\" class=\"dataframe\">\n",
       "  <thead>\n",
       "    <tr style=\"text-align: right;\">\n",
       "      <th></th>\n",
       "      <th>KNN</th>\n",
       "      <th>LogReg</th>\n",
       "      <th>DTree</th>\n",
       "      <th>NBayes</th>\n",
       "    </tr>\n",
       "  </thead>\n",
       "  <tbody>\n",
       "    <tr>\n",
       "      <th>part1</th>\n",
       "      <td>52.34</td>\n",
       "      <td>52.82</td>\n",
       "      <td>53.36</td>\n",
       "      <td>44.31</td>\n",
       "    </tr>\n",
       "    <tr>\n",
       "      <th>part2</th>\n",
       "      <td>NaN</td>\n",
       "      <td>52.92</td>\n",
       "      <td>53.31</td>\n",
       "      <td>44.40</td>\n",
       "    </tr>\n",
       "    <tr>\n",
       "      <th>part3</th>\n",
       "      <td>61.27</td>\n",
       "      <td>60.74</td>\n",
       "      <td>60.64</td>\n",
       "      <td>51.77</td>\n",
       "    </tr>\n",
       "  </tbody>\n",
       "</table>\n",
       "</div>"
      ],
      "text/plain": [
       "         KNN  LogReg  DTree  NBayes\n",
       "part1  52.34   52.82  53.36   44.31\n",
       "part2    NaN   52.92  53.31   44.40\n",
       "part3  61.27   60.74  60.64   51.77"
      ]
     },
     "execution_count": 99,
     "metadata": {},
     "output_type": "execute_result"
    }
   ],
   "source": [
    "df_scores.round(2)"
   ]
  },
  {
   "cell_type": "markdown",
   "id": "49436799",
   "metadata": {},
   "source": [
    "The best performance showed prediction with usage of KNN classifier with acuuracy result of 61.27% for 3rd part of modifications - Rap and Hip Hop targets merged."
   ]
  }
 ],
 "metadata": {
  "kernelspec": {
   "display_name": "Python 3 (ipykernel)",
   "language": "python",
   "name": "python3"
  },
  "language_info": {
   "codemirror_mode": {
    "name": "ipython",
    "version": 3
   },
   "file_extension": ".py",
   "mimetype": "text/x-python",
   "name": "python",
   "nbconvert_exporter": "python",
   "pygments_lexer": "ipython3",
   "version": "3.8.5"
  }
 },
 "nbformat": 4,
 "nbformat_minor": 5
}
